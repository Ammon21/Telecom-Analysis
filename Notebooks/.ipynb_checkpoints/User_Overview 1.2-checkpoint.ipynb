{
 "cells": [
  {
   "cell_type": "code",
   "execution_count": 1,
   "id": "35d3d7ad",
   "metadata": {},
   "outputs": [],
   "source": [
    "import pandas as pd\n",
    "import seaborn as sns\n",
    "import matplotlib.pyplot as plt\n",
    "import numpy as np"
   ]
  },
  {
   "cell_type": "code",
   "execution_count": 2,
   "id": "9dda31a3",
   "metadata": {},
   "outputs": [],
   "source": [
    "df_clean = pd.read_csv(r\"C:\\\\Users\\\\dell\\\\Desktop\\\\Week1_challenge_data_sourcex.csv\", encoding=\"latin-1\")"
   ]
  },
  {
   "cell_type": "code",
   "execution_count": 3,
   "id": "66104c54",
   "metadata": {},
   "outputs": [],
   "source": [
    "df_clean=df_clean.rename(columns = {'Total DL (Bytes)' : 'totalDL','Total UL (Bytes)' : 'totalUL','Dur. (ms)' : 'dur','MSISDN/Number':'msisdn','Last Location Name':'location','Handset Manufacturer':'manufacturer','Handset Type':'handset'})\n",
    "\n",
    "\n",
    "\n",
    "\n",
    "google = df_clean['Google DL (Bytes)']+ df_clean['Google UL (Bytes)']\n",
    "email = df_clean['Email DL (Bytes)']+ df_clean['Email UL (Bytes)']\n",
    "gaming = df_clean['Gaming DL (Bytes)']+ df_clean['Gaming UL (Bytes)']\n",
    "youtube = df_clean['Youtube DL (Bytes)']+ df_clean['Youtube UL (Bytes)']\n",
    "netflix = df_clean['Netflix DL (Bytes)']+ df_clean['Netflix UL (Bytes)']\n",
    "social = df_clean['Social Media DL (Bytes)']+ df_clean['Social Media UL (Bytes)']\n",
    "\n",
    "df_clean['google']=google\n",
    "df_clean['email']=email\n",
    "df_clean['gaming']=gaming\n",
    "df_clean['youtube']=youtube\n",
    "df_clean['netflix']=netflix\n",
    "df_clean['social']=social\n",
    "\n",
    "relevant_data=df_clean[['msisdn','dur','totalUL', 'totalDL', 'google','email','gaming','youtube','netflix','social']]"
   ]
  },
  {
   "cell_type": "markdown",
   "id": "4c4e2146",
   "metadata": {},
   "source": [
    "#### building a dataframe containg the relevant variables"
   ]
  },
  {
   "cell_type": "markdown",
   "id": "7cbdbce1",
   "metadata": {},
   "source": []
  },
  {
   "cell_type": "code",
   "execution_count": 4,
   "id": "3fbb52b2",
   "metadata": {},
   "outputs": [
    {
     "data": {
      "text/html": [
       "<div>\n",
       "<style scoped>\n",
       "    .dataframe tbody tr th:only-of-type {\n",
       "        vertical-align: middle;\n",
       "    }\n",
       "\n",
       "    .dataframe tbody tr th {\n",
       "        vertical-align: top;\n",
       "    }\n",
       "\n",
       "    .dataframe thead th {\n",
       "        text-align: right;\n",
       "    }\n",
       "</style>\n",
       "<table border=\"1\" class=\"dataframe\">\n",
       "  <thead>\n",
       "    <tr style=\"text-align: right;\">\n",
       "      <th></th>\n",
       "      <th>msisdn</th>\n",
       "      <th>dur</th>\n",
       "      <th>totalUL</th>\n",
       "      <th>totalDL</th>\n",
       "      <th>google</th>\n",
       "      <th>email</th>\n",
       "      <th>gaming</th>\n",
       "      <th>youtube</th>\n",
       "      <th>netflix</th>\n",
       "      <th>social</th>\n",
       "    </tr>\n",
       "  </thead>\n",
       "  <tbody>\n",
       "    <tr>\n",
       "      <th>count</th>\n",
       "      <td>1.489350e+05</td>\n",
       "      <td>1.500000e+05</td>\n",
       "      <td>1.500000e+05</td>\n",
       "      <td>1.500000e+05</td>\n",
       "      <td>1.500010e+05</td>\n",
       "      <td>1.500010e+05</td>\n",
       "      <td>1.500010e+05</td>\n",
       "      <td>1.500010e+05</td>\n",
       "      <td>1.500010e+05</td>\n",
       "      <td>1.500010e+05</td>\n",
       "    </tr>\n",
       "    <tr>\n",
       "      <th>mean</th>\n",
       "      <td>4.188282e+10</td>\n",
       "      <td>1.046086e+05</td>\n",
       "      <td>4.112121e+07</td>\n",
       "      <td>4.546434e+08</td>\n",
       "      <td>7.807295e+06</td>\n",
       "      <td>2.259102e+06</td>\n",
       "      <td>4.303331e+08</td>\n",
       "      <td>2.264348e+07</td>\n",
       "      <td>2.262861e+07</td>\n",
       "      <td>1.828250e+06</td>\n",
       "    </tr>\n",
       "    <tr>\n",
       "      <th>std</th>\n",
       "      <td>2.447443e+12</td>\n",
       "      <td>8.103762e+04</td>\n",
       "      <td>1.127639e+07</td>\n",
       "      <td>2.441429e+08</td>\n",
       "      <td>3.516420e+06</td>\n",
       "      <td>1.071109e+06</td>\n",
       "      <td>2.440199e+08</td>\n",
       "      <td>9.246800e+06</td>\n",
       "      <td>9.260820e+06</td>\n",
       "      <td>1.035646e+06</td>\n",
       "    </tr>\n",
       "    <tr>\n",
       "      <th>min</th>\n",
       "      <td>3.360100e+10</td>\n",
       "      <td>7.142000e+03</td>\n",
       "      <td>2.866892e+06</td>\n",
       "      <td>7.114041e+06</td>\n",
       "      <td>4.033000e+04</td>\n",
       "      <td>8.359000e+03</td>\n",
       "      <td>3.063580e+05</td>\n",
       "      <td>7.890300e+04</td>\n",
       "      <td>9.843200e+04</td>\n",
       "      <td>1.563000e+03</td>\n",
       "    </tr>\n",
       "    <tr>\n",
       "      <th>25%</th>\n",
       "      <td>3.365130e+10</td>\n",
       "      <td>5.744050e+04</td>\n",
       "      <td>3.322201e+07</td>\n",
       "      <td>2.431068e+08</td>\n",
       "      <td>4.943599e+06</td>\n",
       "      <td>1.359344e+06</td>\n",
       "      <td>2.187279e+08</td>\n",
       "      <td>1.599846e+07</td>\n",
       "      <td>1.597946e+07</td>\n",
       "      <td>9.322180e+05</td>\n",
       "    </tr>\n",
       "    <tr>\n",
       "      <th>50%</th>\n",
       "      <td>3.366371e+10</td>\n",
       "      <td>8.639900e+04</td>\n",
       "      <td>4.114331e+07</td>\n",
       "      <td>4.558411e+08</td>\n",
       "      <td>7.812835e+06</td>\n",
       "      <td>2.263567e+06</td>\n",
       "      <td>4.316150e+08</td>\n",
       "      <td>2.266177e+07</td>\n",
       "      <td>2.263554e+07</td>\n",
       "      <td>1.826471e+06</td>\n",
       "    </tr>\n",
       "    <tr>\n",
       "      <th>75%</th>\n",
       "      <td>3.368349e+10</td>\n",
       "      <td>1.324302e+05</td>\n",
       "      <td>4.903424e+07</td>\n",
       "      <td>6.657055e+08</td>\n",
       "      <td>1.068280e+07</td>\n",
       "      <td>3.159818e+06</td>\n",
       "      <td>6.414159e+08</td>\n",
       "      <td>2.929260e+07</td>\n",
       "      <td>2.929044e+07</td>\n",
       "      <td>2.727487e+06</td>\n",
       "    </tr>\n",
       "    <tr>\n",
       "      <th>max</th>\n",
       "      <td>8.823971e+14</td>\n",
       "      <td>1.859336e+06</td>\n",
       "      <td>7.833131e+07</td>\n",
       "      <td>9.029696e+08</td>\n",
       "      <td>1.552878e+07</td>\n",
       "      <td>4.518036e+06</td>\n",
       "      <td>8.592028e+08</td>\n",
       "      <td>4.519008e+07</td>\n",
       "      <td>4.519815e+07</td>\n",
       "      <td>3.650861e+06</td>\n",
       "    </tr>\n",
       "  </tbody>\n",
       "</table>\n",
       "</div>"
      ],
      "text/plain": [
       "             msisdn           dur       totalUL       totalDL        google  \\\n",
       "count  1.489350e+05  1.500000e+05  1.500000e+05  1.500000e+05  1.500010e+05   \n",
       "mean   4.188282e+10  1.046086e+05  4.112121e+07  4.546434e+08  7.807295e+06   \n",
       "std    2.447443e+12  8.103762e+04  1.127639e+07  2.441429e+08  3.516420e+06   \n",
       "min    3.360100e+10  7.142000e+03  2.866892e+06  7.114041e+06  4.033000e+04   \n",
       "25%    3.365130e+10  5.744050e+04  3.322201e+07  2.431068e+08  4.943599e+06   \n",
       "50%    3.366371e+10  8.639900e+04  4.114331e+07  4.558411e+08  7.812835e+06   \n",
       "75%    3.368349e+10  1.324302e+05  4.903424e+07  6.657055e+08  1.068280e+07   \n",
       "max    8.823971e+14  1.859336e+06  7.833131e+07  9.029696e+08  1.552878e+07   \n",
       "\n",
       "              email        gaming       youtube       netflix        social  \n",
       "count  1.500010e+05  1.500010e+05  1.500010e+05  1.500010e+05  1.500010e+05  \n",
       "mean   2.259102e+06  4.303331e+08  2.264348e+07  2.262861e+07  1.828250e+06  \n",
       "std    1.071109e+06  2.440199e+08  9.246800e+06  9.260820e+06  1.035646e+06  \n",
       "min    8.359000e+03  3.063580e+05  7.890300e+04  9.843200e+04  1.563000e+03  \n",
       "25%    1.359344e+06  2.187279e+08  1.599846e+07  1.597946e+07  9.322180e+05  \n",
       "50%    2.263567e+06  4.316150e+08  2.266177e+07  2.263554e+07  1.826471e+06  \n",
       "75%    3.159818e+06  6.414159e+08  2.929260e+07  2.929044e+07  2.727487e+06  \n",
       "max    4.518036e+06  8.592028e+08  4.519008e+07  4.519815e+07  3.650861e+06  "
      ]
     },
     "execution_count": 4,
     "metadata": {},
     "output_type": "execute_result"
    }
   ],
   "source": [
    "relevant_data.describe()"
   ]
  },
  {
   "cell_type": "markdown",
   "id": "48e79872",
   "metadata": {},
   "source": [
    "## Insights\n",
    "\n",
    "I)   Users download more than they upload\n",
    "II)  Users upload data is more distributed than the download data\n",
    "III) Users spend more on games than on social medial and other platforms"
   ]
  },
  {
   "cell_type": "code",
   "execution_count": 5,
   "id": "dfea3a6d",
   "metadata": {},
   "outputs": [
    {
     "data": {
      "text/plain": [
       "<AxesSubplot:>"
      ]
     },
     "execution_count": 5,
     "metadata": {},
     "output_type": "execute_result"
    },
    {
     "data": {
      "image/png": "[encoded data removed]",
      "text/plain": [
       "<Figure size 432x288 with 1 Axes>"
      ]
     },
     "metadata": {
      "needs_background": "light"
     },
     "output_type": "display_data"
    }
   ],
   "source": [
    "relevant_data[['youtube','gaming','email','netflix','social']].sum().plot(kind='line')"
   ]
  },
  {
   "cell_type": "code",
   "execution_count": 6,
   "id": "c2569226",
   "metadata": {},
   "outputs": [
    {
     "data": {
      "text/plain": [
       "<AxesSubplot:title={'center':'Top user application engagment'}, ylabel='None'>"
      ]
     },
     "execution_count": 6,
     "metadata": {},
     "output_type": "execute_result"
    },
    {
     "data": {
      "image/png": "[encoded data removed]",
      "text/plain": [
       "<Figure size 432x288 with 1 Axes>"
      ]
     },
     "metadata": {},
     "output_type": "display_data"
    }
   ],
   "source": [
    "relevant_data[['youtube','gaming','email','netflix','social']].sum().plot(kind='pie', title=\"Top user application engagment\")"
   ]
  },
  {
   "cell_type": "markdown",
   "id": "6497379b",
   "metadata": {},
   "source": [
    "##### The above plots show that users spend more time on gaming and then after youtube"
   ]
  },
  {
   "cell_type": "code",
   "execution_count": 7,
   "id": "fd664cdb",
   "metadata": {},
   "outputs": [
    {
     "data": {
      "text/html": [
       "<style type=\"text/css\">\n",
       "#T_3eaa6_row0_col0, #T_3eaa6_row1_col1, #T_3eaa6_row2_col2, #T_3eaa6_row3_col3, #T_3eaa6_row4_col4, #T_3eaa6_row5_col5 {\n",
       "  background-color: #ff00ff;\n",
       "  color: #f1f1f1;\n",
       "}\n",
       "#T_3eaa6_row0_col1, #T_3eaa6_row0_col2, #T_3eaa6_row0_col3, #T_3eaa6_row1_col0, #T_3eaa6_row1_col2, #T_3eaa6_row1_col3, #T_3eaa6_row1_col4, #T_3eaa6_row1_col5, #T_3eaa6_row2_col0, #T_3eaa6_row2_col1, #T_3eaa6_row2_col4, #T_3eaa6_row2_col5, #T_3eaa6_row3_col0, #T_3eaa6_row3_col1, #T_3eaa6_row3_col4, #T_3eaa6_row4_col2, #T_3eaa6_row4_col3, #T_3eaa6_row5_col1, #T_3eaa6_row5_col2, #T_3eaa6_row5_col4 {\n",
       "  background-color: #00ffff;\n",
       "  color: #000000;\n",
       "}\n",
       "#T_3eaa6_row0_col4, #T_3eaa6_row0_col5, #T_3eaa6_row2_col3, #T_3eaa6_row3_col2, #T_3eaa6_row3_col5, #T_3eaa6_row4_col0, #T_3eaa6_row4_col1, #T_3eaa6_row4_col5, #T_3eaa6_row5_col0, #T_3eaa6_row5_col3 {\n",
       "  background-color: #01feff;\n",
       "  color: #000000;\n",
       "}\n",
       "</style>\n",
       "<table id=\"T_3eaa6_\">\n",
       "  <thead>\n",
       "    <tr>\n",
       "      <th class=\"blank level0\" >&nbsp;</th>\n",
       "      <th class=\"col_heading level0 col0\" >email</th>\n",
       "      <th class=\"col_heading level0 col1\" >gaming</th>\n",
       "      <th class=\"col_heading level0 col2\" >google</th>\n",
       "      <th class=\"col_heading level0 col3\" >youtube</th>\n",
       "      <th class=\"col_heading level0 col4\" >social</th>\n",
       "      <th class=\"col_heading level0 col5\" >netflix</th>\n",
       "    </tr>\n",
       "  </thead>\n",
       "  <tbody>\n",
       "    <tr>\n",
       "      <th id=\"T_3eaa6_level0_row0\" class=\"row_heading level0 row0\" >email</th>\n",
       "      <td id=\"T_3eaa6_row0_col0\" class=\"data row0 col0\" >1.000000</td>\n",
       "      <td id=\"T_3eaa6_row0_col1\" class=\"data row0 col1\" >-0.000644</td>\n",
       "      <td id=\"T_3eaa6_row0_col2\" class=\"data row0 col2\" >-0.000412</td>\n",
       "      <td id=\"T_3eaa6_row0_col3\" class=\"data row0 col3\" >-0.002919</td>\n",
       "      <td id=\"T_3eaa6_row0_col4\" class=\"data row0 col4\" >0.004032</td>\n",
       "      <td id=\"T_3eaa6_row0_col5\" class=\"data row0 col5\" >0.001029</td>\n",
       "    </tr>\n",
       "    <tr>\n",
       "      <th id=\"T_3eaa6_level0_row1\" class=\"row_heading level0 row1\" >gaming</th>\n",
       "      <td id=\"T_3eaa6_row1_col0\" class=\"data row1 col0\" >-0.000644</td>\n",
       "      <td id=\"T_3eaa6_row1_col1\" class=\"data row1 col1\" >1.000000</td>\n",
       "      <td id=\"T_3eaa6_row1_col2\" class=\"data row1 col2\" >-0.000994</td>\n",
       "      <td id=\"T_3eaa6_row1_col3\" class=\"data row1 col3\" >-0.002999</td>\n",
       "      <td id=\"T_3eaa6_row1_col4\" class=\"data row1 col4\" >0.001082</td>\n",
       "      <td id=\"T_3eaa6_row1_col5\" class=\"data row1 col5\" >-0.003109</td>\n",
       "    </tr>\n",
       "    <tr>\n",
       "      <th id=\"T_3eaa6_level0_row2\" class=\"row_heading level0 row2\" >google</th>\n",
       "      <td id=\"T_3eaa6_row2_col0\" class=\"data row2 col0\" >-0.000412</td>\n",
       "      <td id=\"T_3eaa6_row2_col1\" class=\"data row2 col1\" >-0.000994</td>\n",
       "      <td id=\"T_3eaa6_row2_col2\" class=\"data row2 col2\" >1.000000</td>\n",
       "      <td id=\"T_3eaa6_row2_col3\" class=\"data row2 col3\" >0.002277</td>\n",
       "      <td id=\"T_3eaa6_row2_col4\" class=\"data row2 col4\" >-0.001708</td>\n",
       "      <td id=\"T_3eaa6_row2_col5\" class=\"data row2 col5\" >-0.001902</td>\n",
       "    </tr>\n",
       "    <tr>\n",
       "      <th id=\"T_3eaa6_level0_row3\" class=\"row_heading level0 row3\" >youtube</th>\n",
       "      <td id=\"T_3eaa6_row3_col0\" class=\"data row3 col0\" >-0.002919</td>\n",
       "      <td id=\"T_3eaa6_row3_col1\" class=\"data row3 col1\" >-0.002999</td>\n",
       "      <td id=\"T_3eaa6_row3_col2\" class=\"data row3 col2\" >0.002277</td>\n",
       "      <td id=\"T_3eaa6_row3_col3\" class=\"data row3 col3\" >1.000000</td>\n",
       "      <td id=\"T_3eaa6_row3_col4\" class=\"data row3 col4\" >0.000548</td>\n",
       "      <td id=\"T_3eaa6_row3_col5\" class=\"data row3 col5\" >0.002882</td>\n",
       "    </tr>\n",
       "    <tr>\n",
       "      <th id=\"T_3eaa6_level0_row4\" class=\"row_heading level0 row4\" >social</th>\n",
       "      <td id=\"T_3eaa6_row4_col0\" class=\"data row4 col0\" >0.004032</td>\n",
       "      <td id=\"T_3eaa6_row4_col1\" class=\"data row4 col1\" >0.001082</td>\n",
       "      <td id=\"T_3eaa6_row4_col2\" class=\"data row4 col2\" >-0.001708</td>\n",
       "      <td id=\"T_3eaa6_row4_col3\" class=\"data row4 col3\" >0.000548</td>\n",
       "      <td id=\"T_3eaa6_row4_col4\" class=\"data row4 col4\" >1.000000</td>\n",
       "      <td id=\"T_3eaa6_row4_col5\" class=\"data row4 col5\" >0.001013</td>\n",
       "    </tr>\n",
       "    <tr>\n",
       "      <th id=\"T_3eaa6_level0_row5\" class=\"row_heading level0 row5\" >netflix</th>\n",
       "      <td id=\"T_3eaa6_row5_col0\" class=\"data row5 col0\" >0.001029</td>\n",
       "      <td id=\"T_3eaa6_row5_col1\" class=\"data row5 col1\" >-0.003109</td>\n",
       "      <td id=\"T_3eaa6_row5_col2\" class=\"data row5 col2\" >-0.001902</td>\n",
       "      <td id=\"T_3eaa6_row5_col3\" class=\"data row5 col3\" >0.002882</td>\n",
       "      <td id=\"T_3eaa6_row5_col4\" class=\"data row5 col4\" >0.001013</td>\n",
       "      <td id=\"T_3eaa6_row5_col5\" class=\"data row5 col5\" >1.000000</td>\n",
       "    </tr>\n",
       "  </tbody>\n",
       "</table>\n"
      ],
      "text/plain": [
       "<pandas.io.formats.style.Styler at 0x17469fdcd30>"
      ]
     },
     "execution_count": 7,
     "metadata": {},
     "output_type": "execute_result"
    }
   ],
   "source": [
    "corelation =  relevant_data[['email','gaming','google','youtube','social','netflix']].corr() \n",
    "corelation.style.background_gradient(cmap = \"cool\")"
   ]
  },
  {
   "cell_type": "markdown",
   "id": "61e100f3",
   "metadata": {},
   "source": [
    "#### few insights from corelation table\n",
    "\n",
    "I) There is a positive corelation between social media and email which is 0.004 far higher than relation to others\n",
    "II) There is negative corelation between gaming and email which is -0.0006, those who use gaming apps dont use much emails\n",
    "III) There is negative corelation between google and email which is -0.0004, those who use google dont use much emails\n"
   ]
  },
  {
   "cell_type": "markdown",
   "id": "45beff2b",
   "metadata": {},
   "source": [
    "# Univariate Analysis"
   ]
  },
  {
   "cell_type": "code",
   "execution_count": 8,
   "id": "5e646820",
   "metadata": {},
   "outputs": [
    {
     "data": {
      "text/plain": [
       "count    1.500000e+05\n",
       "mean     1.046086e+05\n",
       "std      8.103762e+04\n",
       "min      7.142000e+03\n",
       "25%      5.744050e+04\n",
       "50%      8.639900e+04\n",
       "75%      1.324302e+05\n",
       "max      1.859336e+06\n",
       "Name: dur, dtype: float64"
      ]
     },
     "execution_count": 8,
     "metadata": {},
     "output_type": "execute_result"
    }
   ],
   "source": [
    "df_clean['dur'].describe()"
   ]
  },
  {
   "cell_type": "code",
   "execution_count": 14,
   "id": "8a8b7db4",
   "metadata": {},
   "outputs": [
    {
     "data": {
      "text/plain": [
       "(array([1.37277e+05, 1.10520e+04, 1.14600e+03, 3.19000e+02, 1.09000e+02,\n",
       "        5.00000e+01, 2.10000e+01, 1.70000e+01, 3.00000e+00, 6.00000e+00]),\n",
       " array([   7142. ,  192361.4,  377580.8,  562800.2,  748019.6,  933239. ,\n",
       "        1118458.4, 1303677.8, 1488897.2, 1674116.6, 1859336. ]),\n",
       " <BarContainer object of 10 artists>)"
      ]
     },
     "execution_count": 14,
     "metadata": {},
     "output_type": "execute_result"
    },
    {
     "data": {
      "image/png": "[encoded data removed]",
      "text/plain": [
       "<Figure size 432x288 with 1 Axes>"
      ]
     },
     "metadata": {
      "needs_background": "light"
     },
     "output_type": "display_data"
    }
   ],
   "source": [
    "plt.hist(df_clean['dur'])"
   ]
  },
  {
   "cell_type": "code",
   "execution_count": 15,
   "id": "50099337",
   "metadata": {},
   "outputs": [
    {
     "data": {
      "text/plain": [
       "(array([13998., 15338., 15146., 15238., 14935., 15451., 15322., 15122.,\n",
       "        15376., 14075.]),\n",
       " array([3.06358000e+05, 8.61960006e+07, 1.72085643e+08, 2.57975286e+08,\n",
       "        3.43864928e+08, 4.29754571e+08, 5.15644214e+08, 6.01533856e+08,\n",
       "        6.87423499e+08, 7.73313141e+08, 8.59202784e+08]),\n",
       " <BarContainer object of 10 artists>)"
      ]
     },
     "execution_count": 15,
     "metadata": {},
     "output_type": "execute_result"
    },
    {
     "data": {
      "image/png": "[encoded data removed]",
      "text/plain": [
       "<Figure size 432x288 with 1 Axes>"
      ]
     },
     "metadata": {
      "needs_background": "light"
     },
     "output_type": "display_data"
    }
   ],
   "source": [
    "plt.hist(relevant_data['gaming'], bins=10)\n"
   ]
  },
  {
   "cell_type": "code",
   "execution_count": 16,
   "id": "f5bdffd7",
   "metadata": {},
   "outputs": [
    {
     "data": {
      "text/plain": [
       "(array([11508., 16019., 15778., 15854., 15704., 16083., 15988., 15736.,\n",
       "        16101., 11229.]),\n",
       " array([7.11404100e+06, 9.66995985e+07, 1.86285156e+08, 2.75870714e+08,\n",
       "        3.65456271e+08, 4.55041828e+08, 5.44627386e+08, 6.34212944e+08,\n",
       "        7.23798501e+08, 8.13384058e+08, 9.02969616e+08]),\n",
       " <BarContainer object of 10 artists>)"
      ]
     },
     "execution_count": 16,
     "metadata": {},
     "output_type": "execute_result"
    },
    {
     "data": {
      "image/png": "[encoded data removed]",
      "text/plain": [
       "<Figure size 432x288 with 1 Axes>"
      ]
     },
     "metadata": {
      "needs_background": "light"
     },
     "output_type": "display_data"
    }
   ],
   "source": [
    "plt.hist(relevant_data[\"totalDL\"], bins=10)"
   ]
  },
  {
   "cell_type": "code",
   "execution_count": 17,
   "id": "dfe7d06d",
   "metadata": {},
   "outputs": [
    {
     "data": {
      "text/plain": [
       "(array([ 4804., 13896., 18884., 18694., 18710., 18825., 18911., 19092.,\n",
       "        13694.,  4491.]),\n",
       " array([   8359. ,  459326.7,  910294.4, 1361262.1, 1812229.8, 2263197.5,\n",
       "        2714165.2, 3165132.9, 3616100.6, 4067068.3, 4518036. ]),\n",
       " <BarContainer object of 10 artists>)"
      ]
     },
     "execution_count": 17,
     "metadata": {},
     "output_type": "execute_result"
    },
    {
     "data": {
      "image/png": "[encoded data removed]",
      "text/plain": [
       "<Figure size 432x288 with 1 Axes>"
      ]
     },
     "metadata": {
      "needs_background": "light"
     },
     "output_type": "display_data"
    }
   ],
   "source": [
    "plt.hist(relevant_data['email'], bins=10)"
   ]
  },
  {
   "cell_type": "code",
   "execution_count": 18,
   "id": "4bfe282e",
   "metadata": {},
   "outputs": [
    {
     "data": {
      "image/png": "[encoded data removed]",
      "text/plain": [
       "<Figure size 432x288 with 1 Axes>"
      ]
     },
     "metadata": {
      "needs_background": "light"
     },
     "output_type": "display_data"
    }
   ],
   "source": [
    "x = np.linspace(0, 10, 1000)\n",
    "fig, ax = plt.subplots()\n",
    "ax.plot(relevant_data['email'], np.zeros_like(relevant_data['email']), '-b', label='Email')\n",
    "ax.plot(relevant_data['social'], np.zeros_like(relevant_data['social']), '-r', label='Social')\n",
    "ax.axis('equal')\n",
    "leg = ax.legend();"
   ]
  },
  {
   "cell_type": "code",
   "execution_count": 19,
   "id": "df59ed91",
   "metadata": {},
   "outputs": [
    {
     "data": {
      "text/plain": [
       "<matplotlib.legend.Legend at 0x1740873ba60>"
      ]
     },
     "execution_count": 19,
     "metadata": {},
     "output_type": "execute_result"
    },
    {
     "data": {
      "image/png": "[encoded data removed]",
      "text/plain": [
       "<Figure size 432x288 with 1 Axes>"
      ]
     },
     "metadata": {
      "needs_background": "light"
     },
     "output_type": "display_data"
    }
   ],
   "source": [
    "plt.plot(relevant_data['gaming'], np.zeros_like(relevant_data['gaming']), '--r', label=\"Gaming\")\n",
    "plt.legend()\n",
    "# univariate analysis of gaming, email and social on figure above and below"
   ]
  },
  {
   "cell_type": "markdown",
   "id": "802184bf",
   "metadata": {},
   "source": [
    "## Bivariate Analysis"
   ]
  },
  {
   "cell_type": "markdown",
   "id": "453550c4",
   "metadata": {},
   "source": [
    "### below is Bivariate analysis using gaming and total data volume\n",
    "\n",
    "It shows positive corelation, that when gaming data increase the total data volume increases too"
   ]
  },
  {
   "cell_type": "code",
   "execution_count": 20,
   "id": "bc0f2b7d",
   "metadata": {},
   "outputs": [
    {
     "data": {
      "text/plain": [
       "Text(0, 0.5, 'Total Data Volume')"
      ]
     },
     "execution_count": 20,
     "metadata": {},
     "output_type": "execute_result"
    },
    {
     "data": {
      "image/png": "[encoded data removed]",
      "text/plain": [
       "<Figure size 432x288 with 1 Axes>"
      ]
     },
     "metadata": {
      "needs_background": "light"
     },
     "output_type": "display_data"
    }
   ],
   "source": [
    "sum_column = df_clean[\"totalUL\"] + df_clean[\"totalDL\"]\n",
    "plt.scatter(relevant_data['gaming'], sum_column, alpha=0.1)\n",
    "plt.xlabel('Gaming Data')\n",
    "plt.ylabel('Total Data Volume')"
   ]
  },
  {
   "cell_type": "code",
   "execution_count": null,
   "id": "29599d8b",
   "metadata": {},
   "outputs": [],
   "source": [
    "relevant_data[\"totalData\"] = sum_column\n",
    "sns.FacetGrid(relevant_data, hue='msisdn', size=5).map(plt.scatter, 'gaming', 'totalData').add_legend()"
   ]
  },
  {
   "cell_type": "code",
   "execution_count": null,
   "id": "84d1113c",
   "metadata": {},
   "outputs": [],
   "source": []
  }
 ],
 "metadata": {
  "kernelspec": {
   "display_name": "Python 3 (ipykernel)",
   "language": "python",
   "name": "python3"
  },
  "language_info": {
   "codemirror_mode": {
    "name": "ipython",
    "version": 3
   },
   "file_extension": ".py",
   "mimetype": "text/x-python",
   "name": "python",
   "nbconvert_exporter": "python",
   "pygments_lexer": "ipython3",
   "version": "3.9.7"
  }
 },
 "nbformat": 4,
 "nbformat_minor": 5
}
