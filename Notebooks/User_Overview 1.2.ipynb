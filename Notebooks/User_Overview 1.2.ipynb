{
 "cells": [
  {
   "cell_type": "code",
   "execution_count": 1,
   "id": "35d3d7ad",
   "metadata": {},
   "outputs": [],
   "source": [
    "import pandas as pd\n",
    "import seaborn as sns\n",
    "import matplotlib.pyplot as plt\n",
    "import numpy as np"
   ]
  },
  {
   "cell_type": "code",
   "execution_count": 2,
   "id": "9dda31a3",
   "metadata": {},
   "outputs": [
    {
     "data": {
      "text/html": [
       "<div>\n",
       "<style scoped>\n",
       "    .dataframe tbody tr th:only-of-type {\n",
       "        vertical-align: middle;\n",
       "    }\n",
       "\n",
       "    .dataframe tbody tr th {\n",
       "        vertical-align: top;\n",
       "    }\n",
       "\n",
       "    .dataframe thead th {\n",
       "        text-align: right;\n",
       "    }\n",
       "</style>\n",
       "<table border=\"1\" class=\"dataframe\">\n",
       "  <thead>\n",
       "    <tr style=\"text-align: right;\">\n",
       "      <th></th>\n",
       "      <th>Bearer Id</th>\n",
       "      <th>Start</th>\n",
       "      <th>Start ms</th>\n",
       "      <th>End</th>\n",
       "      <th>End ms</th>\n",
       "      <th>Dur. (ms)</th>\n",
       "      <th>IMSI</th>\n",
       "      <th>MSISDN/Number</th>\n",
       "      <th>IMEI</th>\n",
       "      <th>Last Location Name</th>\n",
       "      <th>...</th>\n",
       "      <th>Youtube DL (Bytes)</th>\n",
       "      <th>Youtube UL (Bytes)</th>\n",
       "      <th>Netflix DL (Bytes)</th>\n",
       "      <th>Netflix UL (Bytes)</th>\n",
       "      <th>Gaming DL (Bytes)</th>\n",
       "      <th>Gaming UL (Bytes)</th>\n",
       "      <th>Other DL (Bytes)</th>\n",
       "      <th>Other UL (Bytes)</th>\n",
       "      <th>Total UL (Bytes)</th>\n",
       "      <th>Total DL (Bytes)</th>\n",
       "    </tr>\n",
       "  </thead>\n",
       "  <tbody>\n",
       "    <tr>\n",
       "      <th>0</th>\n",
       "      <td>1.311448e+19</td>\n",
       "      <td>4/4/2019 12:01</td>\n",
       "      <td>770.0</td>\n",
       "      <td>4/25/2019 14:35</td>\n",
       "      <td>662.0</td>\n",
       "      <td>1823652.0</td>\n",
       "      <td>2.082014e+14</td>\n",
       "      <td>3.366496e+10</td>\n",
       "      <td>3.552121e+13</td>\n",
       "      <td>9.16456699548519E+015</td>\n",
       "      <td>...</td>\n",
       "      <td>15854611.0</td>\n",
       "      <td>2501332.0</td>\n",
       "      <td>8198936.0</td>\n",
       "      <td>9656251.0</td>\n",
       "      <td>278082303.0</td>\n",
       "      <td>14344150.0</td>\n",
       "      <td>171744450.0</td>\n",
       "      <td>8814393.0</td>\n",
       "      <td>36749741.0</td>\n",
       "      <td>308879636.0</td>\n",
       "    </tr>\n",
       "    <tr>\n",
       "      <th>1</th>\n",
       "      <td>1.311448e+19</td>\n",
       "      <td>4/9/2019 13:04</td>\n",
       "      <td>235.0</td>\n",
       "      <td>4/25/2019 8:15</td>\n",
       "      <td>606.0</td>\n",
       "      <td>1365104.0</td>\n",
       "      <td>2.082019e+14</td>\n",
       "      <td>3.368185e+10</td>\n",
       "      <td>3.579401e+13</td>\n",
       "      <td>L77566A</td>\n",
       "      <td>...</td>\n",
       "      <td>20247395.0</td>\n",
       "      <td>19111729.0</td>\n",
       "      <td>18338413.0</td>\n",
       "      <td>17227132.0</td>\n",
       "      <td>608750074.0</td>\n",
       "      <td>1170709.0</td>\n",
       "      <td>526904238.0</td>\n",
       "      <td>15055145.0</td>\n",
       "      <td>53800391.0</td>\n",
       "      <td>653384965.0</td>\n",
       "    </tr>\n",
       "    <tr>\n",
       "      <th>2</th>\n",
       "      <td>1.311448e+19</td>\n",
       "      <td>4/9/2019 17:42</td>\n",
       "      <td>1.0</td>\n",
       "      <td>4/25/2019 11:58</td>\n",
       "      <td>652.0</td>\n",
       "      <td>1361762.0</td>\n",
       "      <td>2.082003e+14</td>\n",
       "      <td>3.376063e+10</td>\n",
       "      <td>3.528151e+13</td>\n",
       "      <td>D42335A</td>\n",
       "      <td>...</td>\n",
       "      <td>19725661.0</td>\n",
       "      <td>14699576.0</td>\n",
       "      <td>17587794.0</td>\n",
       "      <td>6163408.0</td>\n",
       "      <td>229584621.0</td>\n",
       "      <td>395630.0</td>\n",
       "      <td>410692588.0</td>\n",
       "      <td>4215763.0</td>\n",
       "      <td>27883638.0</td>\n",
       "      <td>279807335.0</td>\n",
       "    </tr>\n",
       "    <tr>\n",
       "      <th>3</th>\n",
       "      <td>1.311448e+19</td>\n",
       "      <td>4/10/2019 0:31</td>\n",
       "      <td>486.0</td>\n",
       "      <td>4/25/2019 7:36</td>\n",
       "      <td>171.0</td>\n",
       "      <td>1321509.0</td>\n",
       "      <td>2.082014e+14</td>\n",
       "      <td>3.375034e+10</td>\n",
       "      <td>3.535661e+13</td>\n",
       "      <td>T21824A</td>\n",
       "      <td>...</td>\n",
       "      <td>21388122.0</td>\n",
       "      <td>15146643.0</td>\n",
       "      <td>13994646.0</td>\n",
       "      <td>1097942.0</td>\n",
       "      <td>799538153.0</td>\n",
       "      <td>10849722.0</td>\n",
       "      <td>749039933.0</td>\n",
       "      <td>12797283.0</td>\n",
       "      <td>43324218.0</td>\n",
       "      <td>846028530.0</td>\n",
       "    </tr>\n",
       "    <tr>\n",
       "      <th>4</th>\n",
       "      <td>1.311448e+19</td>\n",
       "      <td>4/12/2019 20:10</td>\n",
       "      <td>565.0</td>\n",
       "      <td>4/25/2019 10:40</td>\n",
       "      <td>954.0</td>\n",
       "      <td>1089009.0</td>\n",
       "      <td>2.082014e+14</td>\n",
       "      <td>3.369980e+10</td>\n",
       "      <td>3.540701e+13</td>\n",
       "      <td>D88865A</td>\n",
       "      <td>...</td>\n",
       "      <td>15259380.0</td>\n",
       "      <td>18962873.0</td>\n",
       "      <td>17124581.0</td>\n",
       "      <td>415218.0</td>\n",
       "      <td>527707248.0</td>\n",
       "      <td>3529801.0</td>\n",
       "      <td>550709500.0</td>\n",
       "      <td>13910322.0</td>\n",
       "      <td>38542814.0</td>\n",
       "      <td>569138589.0</td>\n",
       "    </tr>\n",
       "  </tbody>\n",
       "</table>\n",
       "<p>5 rows × 50 columns</p>\n",
       "</div>"
      ],
      "text/plain": [
       "      Bearer Id            Start  Start ms              End  End ms  \\\n",
       "0  1.311448e+19   4/4/2019 12:01     770.0  4/25/2019 14:35   662.0   \n",
       "1  1.311448e+19   4/9/2019 13:04     235.0   4/25/2019 8:15   606.0   \n",
       "2  1.311448e+19   4/9/2019 17:42       1.0  4/25/2019 11:58   652.0   \n",
       "3  1.311448e+19   4/10/2019 0:31     486.0   4/25/2019 7:36   171.0   \n",
       "4  1.311448e+19  4/12/2019 20:10     565.0  4/25/2019 10:40   954.0   \n",
       "\n",
       "   Dur. (ms)          IMSI  MSISDN/Number          IMEI  \\\n",
       "0  1823652.0  2.082014e+14   3.366496e+10  3.552121e+13   \n",
       "1  1365104.0  2.082019e+14   3.368185e+10  3.579401e+13   \n",
       "2  1361762.0  2.082003e+14   3.376063e+10  3.528151e+13   \n",
       "3  1321509.0  2.082014e+14   3.375034e+10  3.535661e+13   \n",
       "4  1089009.0  2.082014e+14   3.369980e+10  3.540701e+13   \n",
       "\n",
       "      Last Location Name  ...  Youtube DL (Bytes)  Youtube UL (Bytes)  \\\n",
       "0  9.16456699548519E+015  ...          15854611.0           2501332.0   \n",
       "1                L77566A  ...          20247395.0          19111729.0   \n",
       "2                D42335A  ...          19725661.0          14699576.0   \n",
       "3                T21824A  ...          21388122.0          15146643.0   \n",
       "4                D88865A  ...          15259380.0          18962873.0   \n",
       "\n",
       "   Netflix DL (Bytes)  Netflix UL (Bytes)  Gaming DL (Bytes)  \\\n",
       "0           8198936.0           9656251.0        278082303.0   \n",
       "1          18338413.0          17227132.0        608750074.0   \n",
       "2          17587794.0           6163408.0        229584621.0   \n",
       "3          13994646.0           1097942.0        799538153.0   \n",
       "4          17124581.0            415218.0        527707248.0   \n",
       "\n",
       "   Gaming UL (Bytes)  Other DL (Bytes)  Other UL (Bytes)  Total UL (Bytes)  \\\n",
       "0         14344150.0       171744450.0         8814393.0        36749741.0   \n",
       "1          1170709.0       526904238.0        15055145.0        53800391.0   \n",
       "2           395630.0       410692588.0         4215763.0        27883638.0   \n",
       "3         10849722.0       749039933.0        12797283.0        43324218.0   \n",
       "4          3529801.0       550709500.0        13910322.0        38542814.0   \n",
       "\n",
       "   Total DL (Bytes)  \n",
       "0       308879636.0  \n",
       "1       653384965.0  \n",
       "2       279807335.0  \n",
       "3       846028530.0  \n",
       "4       569138589.0  \n",
       "\n",
       "[5 rows x 50 columns]"
      ]
     },
     "execution_count": 2,
     "metadata": {},
     "output_type": "execute_result"
    }
   ],
   "source": [
    "df_clean = pd.read_csv(r\"C:\\\\Users\\\\dell\\\\Desktop\\\\Week1_challenge_data_sourcex.csv\", encoding=\"latin-1\")\n",
    "df_clean.head()"
   ]
  },
  {
   "cell_type": "code",
   "execution_count": 3,
   "id": "66104c54",
   "metadata": {},
   "outputs": [],
   "source": [
    "df_clean=df_clean.rename(columns = {'Total DL (Bytes)' : 'totalDL','Total UL (Bytes)' : 'totalUL','Dur. (ms)' : 'dur','MSISDN/Number':'msisdn','Last Location Name':'location','Handset Manufacturer':'manufacturer','Handset Type':'handset'})\n",
    "\n",
    "\n",
    "\n",
    "\n",
    "google = df_clean['Google DL (Bytes)']+ df_clean['Google UL (Bytes)']\n",
    "email = df_clean['Email DL (Bytes)']+ df_clean['Email UL (Bytes)']\n",
    "gaming = df_clean['Gaming DL (Bytes)']+ df_clean['Gaming UL (Bytes)']\n",
    "youtube = df_clean['Youtube DL (Bytes)']+ df_clean['Youtube UL (Bytes)']\n",
    "netflix = df_clean['Netflix DL (Bytes)']+ df_clean['Netflix UL (Bytes)']\n",
    "social = df_clean['Social Media DL (Bytes)']+ df_clean['Social Media UL (Bytes)']\n",
    "\n",
    "df_clean['google']=google\n",
    "df_clean['email']=email\n",
    "df_clean['gaming']=gaming\n",
    "df_clean['youtube']=youtube\n",
    "df_clean['netflix']=netflix\n",
    "df_clean['social']=social\n",
    "\n",
    "relevant_data=df_clean[['msisdn','dur','totalUL', 'totalDL', 'google','email','gaming','youtube','netflix','social']]"
   ]
  },
  {
   "cell_type": "markdown",
   "id": "4c4e2146",
   "metadata": {},
   "source": [
    "#### building a dataframe containg the relevant variables"
   ]
  },
  {
   "cell_type": "markdown",
   "id": "eaebbec9",
   "metadata": {},
   "source": []
  },
  {
   "cell_type": "code",
   "execution_count": 4,
   "id": "3fbb52b2",
   "metadata": {},
   "outputs": [
    {
     "data": {
      "text/html": [
       "<div>\n",
       "<style scoped>\n",
       "    .dataframe tbody tr th:only-of-type {\n",
       "        vertical-align: middle;\n",
       "    }\n",
       "\n",
       "    .dataframe tbody tr th {\n",
       "        vertical-align: top;\n",
       "    }\n",
       "\n",
       "    .dataframe thead th {\n",
       "        text-align: right;\n",
       "    }\n",
       "</style>\n",
       "<table border=\"1\" class=\"dataframe\">\n",
       "  <thead>\n",
       "    <tr style=\"text-align: right;\">\n",
       "      <th></th>\n",
       "      <th>msisdn</th>\n",
       "      <th>dur</th>\n",
       "      <th>totalUL</th>\n",
       "      <th>totalDL</th>\n",
       "      <th>google</th>\n",
       "      <th>email</th>\n",
       "      <th>gaming</th>\n",
       "      <th>youtube</th>\n",
       "      <th>netflix</th>\n",
       "      <th>social</th>\n",
       "    </tr>\n",
       "  </thead>\n",
       "  <tbody>\n",
       "    <tr>\n",
       "      <th>count</th>\n",
       "      <td>1.489350e+05</td>\n",
       "      <td>1.500000e+05</td>\n",
       "      <td>1.500000e+05</td>\n",
       "      <td>1.500000e+05</td>\n",
       "      <td>1.500010e+05</td>\n",
       "      <td>1.500010e+05</td>\n",
       "      <td>1.500010e+05</td>\n",
       "      <td>1.500010e+05</td>\n",
       "      <td>1.500010e+05</td>\n",
       "      <td>1.500010e+05</td>\n",
       "    </tr>\n",
       "    <tr>\n",
       "      <th>mean</th>\n",
       "      <td>4.188282e+10</td>\n",
       "      <td>1.046086e+05</td>\n",
       "      <td>4.112121e+07</td>\n",
       "      <td>4.546434e+08</td>\n",
       "      <td>7.807295e+06</td>\n",
       "      <td>2.259102e+06</td>\n",
       "      <td>4.303331e+08</td>\n",
       "      <td>2.264348e+07</td>\n",
       "      <td>2.262861e+07</td>\n",
       "      <td>1.828250e+06</td>\n",
       "    </tr>\n",
       "    <tr>\n",
       "      <th>std</th>\n",
       "      <td>2.447443e+12</td>\n",
       "      <td>8.103762e+04</td>\n",
       "      <td>1.127639e+07</td>\n",
       "      <td>2.441429e+08</td>\n",
       "      <td>3.516420e+06</td>\n",
       "      <td>1.071109e+06</td>\n",
       "      <td>2.440199e+08</td>\n",
       "      <td>9.246800e+06</td>\n",
       "      <td>9.260820e+06</td>\n",
       "      <td>1.035646e+06</td>\n",
       "    </tr>\n",
       "    <tr>\n",
       "      <th>min</th>\n",
       "      <td>3.360100e+10</td>\n",
       "      <td>7.142000e+03</td>\n",
       "      <td>2.866892e+06</td>\n",
       "      <td>7.114041e+06</td>\n",
       "      <td>4.033000e+04</td>\n",
       "      <td>8.359000e+03</td>\n",
       "      <td>3.063580e+05</td>\n",
       "      <td>7.890300e+04</td>\n",
       "      <td>9.843200e+04</td>\n",
       "      <td>1.563000e+03</td>\n",
       "    </tr>\n",
       "    <tr>\n",
       "      <th>25%</th>\n",
       "      <td>3.365130e+10</td>\n",
       "      <td>5.744050e+04</td>\n",
       "      <td>3.322201e+07</td>\n",
       "      <td>2.431068e+08</td>\n",
       "      <td>4.943599e+06</td>\n",
       "      <td>1.359344e+06</td>\n",
       "      <td>2.187279e+08</td>\n",
       "      <td>1.599846e+07</td>\n",
       "      <td>1.597946e+07</td>\n",
       "      <td>9.322180e+05</td>\n",
       "    </tr>\n",
       "    <tr>\n",
       "      <th>50%</th>\n",
       "      <td>3.366371e+10</td>\n",
       "      <td>8.639900e+04</td>\n",
       "      <td>4.114331e+07</td>\n",
       "      <td>4.558411e+08</td>\n",
       "      <td>7.812835e+06</td>\n",
       "      <td>2.263567e+06</td>\n",
       "      <td>4.316150e+08</td>\n",
       "      <td>2.266177e+07</td>\n",
       "      <td>2.263554e+07</td>\n",
       "      <td>1.826471e+06</td>\n",
       "    </tr>\n",
       "    <tr>\n",
       "      <th>75%</th>\n",
       "      <td>3.368349e+10</td>\n",
       "      <td>1.324302e+05</td>\n",
       "      <td>4.903424e+07</td>\n",
       "      <td>6.657055e+08</td>\n",
       "      <td>1.068280e+07</td>\n",
       "      <td>3.159818e+06</td>\n",
       "      <td>6.414159e+08</td>\n",
       "      <td>2.929260e+07</td>\n",
       "      <td>2.929044e+07</td>\n",
       "      <td>2.727487e+06</td>\n",
       "    </tr>\n",
       "    <tr>\n",
       "      <th>max</th>\n",
       "      <td>8.823971e+14</td>\n",
       "      <td>1.859336e+06</td>\n",
       "      <td>7.833131e+07</td>\n",
       "      <td>9.029696e+08</td>\n",
       "      <td>1.552878e+07</td>\n",
       "      <td>4.518036e+06</td>\n",
       "      <td>8.592028e+08</td>\n",
       "      <td>4.519008e+07</td>\n",
       "      <td>4.519815e+07</td>\n",
       "      <td>3.650861e+06</td>\n",
       "    </tr>\n",
       "  </tbody>\n",
       "</table>\n",
       "</div>"
      ],
      "text/plain": [
       "             msisdn           dur       totalUL       totalDL        google  \\\n",
       "count  1.489350e+05  1.500000e+05  1.500000e+05  1.500000e+05  1.500010e+05   \n",
       "mean   4.188282e+10  1.046086e+05  4.112121e+07  4.546434e+08  7.807295e+06   \n",
       "std    2.447443e+12  8.103762e+04  1.127639e+07  2.441429e+08  3.516420e+06   \n",
       "min    3.360100e+10  7.142000e+03  2.866892e+06  7.114041e+06  4.033000e+04   \n",
       "25%    3.365130e+10  5.744050e+04  3.322201e+07  2.431068e+08  4.943599e+06   \n",
       "50%    3.366371e+10  8.639900e+04  4.114331e+07  4.558411e+08  7.812835e+06   \n",
       "75%    3.368349e+10  1.324302e+05  4.903424e+07  6.657055e+08  1.068280e+07   \n",
       "max    8.823971e+14  1.859336e+06  7.833131e+07  9.029696e+08  1.552878e+07   \n",
       "\n",
       "              email        gaming       youtube       netflix        social  \n",
       "count  1.500010e+05  1.500010e+05  1.500010e+05  1.500010e+05  1.500010e+05  \n",
       "mean   2.259102e+06  4.303331e+08  2.264348e+07  2.262861e+07  1.828250e+06  \n",
       "std    1.071109e+06  2.440199e+08  9.246800e+06  9.260820e+06  1.035646e+06  \n",
       "min    8.359000e+03  3.063580e+05  7.890300e+04  9.843200e+04  1.563000e+03  \n",
       "25%    1.359344e+06  2.187279e+08  1.599846e+07  1.597946e+07  9.322180e+05  \n",
       "50%    2.263567e+06  4.316150e+08  2.266177e+07  2.263554e+07  1.826471e+06  \n",
       "75%    3.159818e+06  6.414159e+08  2.929260e+07  2.929044e+07  2.727487e+06  \n",
       "max    4.518036e+06  8.592028e+08  4.519008e+07  4.519815e+07  3.650861e+06  "
      ]
     },
     "execution_count": 4,
     "metadata": {},
     "output_type": "execute_result"
    }
   ],
   "source": [
    "relevant_data.describe()"
   ]
  },
  {
   "cell_type": "markdown",
   "id": "48e79872",
   "metadata": {},
   "source": [
    "## Insights\n",
    "\n",
    "I)   Users download more than they upload\n",
    "II)  Users upload data is more distributed than the download data\n",
    "III) Users spend more on games than on social medial and other platforms"
   ]
  },
  {
   "cell_type": "code",
   "execution_count": 5,
   "id": "dfea3a6d",
   "metadata": {},
   "outputs": [
    {
     "data": {
      "text/plain": [
       "<AxesSubplot:>"
      ]
     },
     "execution_count": 5,
     "metadata": {},
     "output_type": "execute_result"
    },
    {
     "data": {
      "image/png": "[encoded data removed]",
      "text/plain": [
       "<Figure size 432x288 with 1 Axes>"
      ]
     },
     "metadata": {
      "needs_background": "light"
     },
     "output_type": "display_data"
    }
   ],
   "source": [
    "relevant_data[['youtube','gaming','email','netflix','social']].sum().plot(kind='line')"
   ]
  },
  {
   "cell_type": "code",
   "execution_count": 6,
   "id": "c2569226",
   "metadata": {},
   "outputs": [
    {
     "data": {
      "text/plain": [
       "<AxesSubplot:title={'center':'Top user application engagment'}, ylabel='None'>"
      ]
     },
     "execution_count": 6,
     "metadata": {},
     "output_type": "execute_result"
    },
    {
     "data": {
      "image/png": "[encoded data removed]",
      "text/plain": [
       "<Figure size 432x288 with 1 Axes>"
      ]
     },
     "metadata": {},
     "output_type": "display_data"
    }
   ],
   "source": [
    "relevant_data[['youtube','gaming','email','netflix','social']].sum().plot(kind='pie', title=\"Top user application engagment\")"
   ]
  },
  {
   "cell_type": "markdown",
   "id": "6497379b",
   "metadata": {},
   "source": [
    "##### The above plots show that users spend more time on gaming and then after youtube"
   ]
  },
  {
   "cell_type": "code",
   "execution_count": null,
   "id": "fd664cdb",
   "metadata": {},
   "outputs": [],
   "source": []
  },
  {
   "cell_type": "code",
   "execution_count": null,
   "id": "8c9c6653",
   "metadata": {},
   "outputs": [],
   "source": [
    "\n"
   ]
  },
  {
   "cell_type": "markdown",
   "id": "45beff2b",
   "metadata": {},
   "source": [
    "# Univariate Analysis"
   ]
  },
  {
   "cell_type": "markdown",
   "id": "3bf2030c",
   "metadata": {},
   "source": [
    "#### Non Graphical and graphical"
   ]
  },
  {
   "cell_type": "code",
   "execution_count": 8,
   "id": "41d8896b",
   "metadata": {},
   "outputs": [
    {
     "data": {
      "text/html": [
       "<div>\n",
       "<style scoped>\n",
       "    .dataframe tbody tr th:only-of-type {\n",
       "        vertical-align: middle;\n",
       "    }\n",
       "\n",
       "    .dataframe tbody tr th {\n",
       "        vertical-align: top;\n",
       "    }\n",
       "\n",
       "    .dataframe thead th {\n",
       "        text-align: right;\n",
       "    }\n",
       "</style>\n",
       "<table border=\"1\" class=\"dataframe\">\n",
       "  <thead>\n",
       "    <tr style=\"text-align: right;\">\n",
       "      <th></th>\n",
       "      <th>social</th>\n",
       "    </tr>\n",
       "  </thead>\n",
       "  <tbody>\n",
       "    <tr>\n",
       "      <th>count</th>\n",
       "      <td>1.500010e+05</td>\n",
       "    </tr>\n",
       "    <tr>\n",
       "      <th>mean</th>\n",
       "      <td>1.828250e+06</td>\n",
       "    </tr>\n",
       "    <tr>\n",
       "      <th>std</th>\n",
       "      <td>1.035646e+06</td>\n",
       "    </tr>\n",
       "    <tr>\n",
       "      <th>min</th>\n",
       "      <td>1.563000e+03</td>\n",
       "    </tr>\n",
       "    <tr>\n",
       "      <th>25%</th>\n",
       "      <td>9.322180e+05</td>\n",
       "    </tr>\n",
       "    <tr>\n",
       "      <th>50%</th>\n",
       "      <td>1.826471e+06</td>\n",
       "    </tr>\n",
       "    <tr>\n",
       "      <th>75%</th>\n",
       "      <td>2.727487e+06</td>\n",
       "    </tr>\n",
       "    <tr>\n",
       "      <th>max</th>\n",
       "      <td>3.650861e+06</td>\n",
       "    </tr>\n",
       "  </tbody>\n",
       "</table>\n",
       "</div>"
      ],
      "text/plain": [
       "             social\n",
       "count  1.500010e+05\n",
       "mean   1.828250e+06\n",
       "std    1.035646e+06\n",
       "min    1.563000e+03\n",
       "25%    9.322180e+05\n",
       "50%    1.826471e+06\n",
       "75%    2.727487e+06\n",
       "max    3.650861e+06"
      ]
     },
     "execution_count": 8,
     "metadata": {},
     "output_type": "execute_result"
    }
   ],
   "source": [
    "# important statistical measurements of center and dispersion\n",
    "relevant_data[['social']].describe()"
   ]
  },
  {
   "cell_type": "code",
   "execution_count": 9,
   "id": "7f9f24a7",
   "metadata": {},
   "outputs": [
    {
     "data": {
      "text/plain": [
       "count    1.500000e+05\n",
       "mean     1.046086e+05\n",
       "std      8.103762e+04\n",
       "min      7.142000e+03\n",
       "25%      5.744050e+04\n",
       "50%      8.639900e+04\n",
       "75%      1.324302e+05\n",
       "max      1.859336e+06\n",
       "Name: dur, dtype: float64"
      ]
     },
     "execution_count": 9,
     "metadata": {},
     "output_type": "execute_result"
    }
   ],
   "source": [
    "df_clean['dur'].describe()"
   ]
  },
  {
   "cell_type": "code",
   "execution_count": 40,
   "id": "c9413f1d",
   "metadata": {},
   "outputs": [
    {
     "data": {
      "text/plain": [
       "(array([1.37277e+05, 1.10520e+04, 1.14600e+03, 3.19000e+02, 1.09000e+02,\n",
       "        5.00000e+01, 2.10000e+01, 1.70000e+01, 3.00000e+00, 6.00000e+00]),\n",
       " array([   7142. ,  192361.4,  377580.8,  562800.2,  748019.6,  933239. ,\n",
       "        1118458.4, 1303677.8, 1488897.2, 1674116.6, 1859336. ]),\n",
       " <BarContainer object of 10 artists>)"
      ]
     },
     "execution_count": 40,
     "metadata": {},
     "output_type": "execute_result"
    },
    {
     "data": {
      "image/png": "[encoded data removed]",
      "text/plain": [
       "<Figure size 432x288 with 1 Axes>"
      ]
     },
     "metadata": {
      "needs_background": "light"
     },
     "output_type": "display_data"
    }
   ],
   "source": [
    "plt.hist(df_clean['dur'],bins=10)"
   ]
  },
  {
   "cell_type": "code",
   "execution_count": 11,
   "id": "50099337",
   "metadata": {},
   "outputs": [
    {
     "data": {
      "text/plain": [
       "(array([13998., 15338., 15146., 15238., 14935., 15451., 15322., 15122.,\n",
       "        15376., 14075.]),\n",
       " array([3.06358000e+05, 8.61960006e+07, 1.72085643e+08, 2.57975286e+08,\n",
       "        3.43864928e+08, 4.29754571e+08, 5.15644214e+08, 6.01533856e+08,\n",
       "        6.87423499e+08, 7.73313141e+08, 8.59202784e+08]),\n",
       " <BarContainer object of 10 artists>)"
      ]
     },
     "execution_count": 11,
     "metadata": {},
     "output_type": "execute_result"
    },
    {
     "data": {
      "image/png": "[encoded data removed]",
      "text/plain": [
       "<Figure size 432x288 with 1 Axes>"
      ]
     },
     "metadata": {
      "needs_background": "light"
     },
     "output_type": "display_data"
    }
   ],
   "source": [
    "plt.hist(relevant_data['gaming'], bins=10)\n"
   ]
  },
  {
   "cell_type": "code",
   "execution_count": 45,
   "id": "21d5676e",
   "metadata": {},
   "outputs": [
    {
     "data": {
      "text/plain": [
       "(array([ 3199.,  9055., 15009., 21175., 26637., 26825., 20937., 15010.,\n",
       "         9033.,  3121.]),\n",
       " array([   98432. ,  4608404.1,  9118376.2, 13628348.3, 18138320.4,\n",
       "        22648292.5, 27158264.6, 31668236.7, 36178208.8, 40688180.9,\n",
       "        45198153. ]),\n",
       " <BarContainer object of 10 artists>)"
      ]
     },
     "execution_count": 45,
     "metadata": {},
     "output_type": "execute_result"
    },
    {
     "data": {
      "image/png": "[encoded data removed]",
      "text/plain": [
       "<Figure size 432x288 with 1 Axes>"
      ]
     },
     "metadata": {
      "needs_background": "light"
     },
     "output_type": "display_data"
    }
   ],
   "source": [
    "plt.hist(relevant_data['netflix'], bins=10)"
   ]
  },
  {
   "cell_type": "code",
   "execution_count": 46,
   "id": "ce18cf09",
   "metadata": {},
   "outputs": [
    {
     "data": {
      "text/plain": [
       "(array([ 3101.,  9087., 15017., 20856., 26777., 26918., 21189., 14889.,\n",
       "         9101.,  3066.]),\n",
       " array([   78903. ,  4590020.5,  9101138. , 13612255.5, 18123373. ,\n",
       "        22634490.5, 27145608. , 31656725.5, 36167843. , 40678960.5,\n",
       "        45190078. ]),\n",
       " <BarContainer object of 10 artists>)"
      ]
     },
     "execution_count": 46,
     "metadata": {},
     "output_type": "execute_result"
    },
    {
     "data": {
      "image/png": "[encoded data removed]",
      "text/plain": [
       "<Figure size 432x288 with 1 Axes>"
      ]
     },
     "metadata": {
      "needs_background": "light"
     },
     "output_type": "display_data"
    }
   ],
   "source": [
    "plt.hist(relevant_data['youtube'], bins=10)"
   ]
  },
  {
   "cell_type": "code",
   "execution_count": 47,
   "id": "f5bdffd7",
   "metadata": {},
   "outputs": [
    {
     "data": {
      "text/plain": [
       "(array([13842., 15341., 15177., 15403., 15231., 15162., 15219., 15182.,\n",
       "        15489., 13955.]),\n",
       " array([1.5630000e+03, 3.6649280e+05, 7.3142260e+05, 1.0963524e+06,\n",
       "        1.4612822e+06, 1.8262120e+06, 2.1911418e+06, 2.5560716e+06,\n",
       "        2.9210014e+06, 3.2859312e+06, 3.6508610e+06]),\n",
       " <BarContainer object of 10 artists>)"
      ]
     },
     "execution_count": 47,
     "metadata": {},
     "output_type": "execute_result"
    },
    {
     "data": {
      "image/png": "[encoded data removed]",
      "text/plain": [
       "<Figure size 432x288 with 1 Axes>"
      ]
     },
     "metadata": {
      "needs_background": "light"
     },
     "output_type": "display_data"
    }
   ],
   "source": [
    "plt.hist(relevant_data[\"social\"], bins=10)"
   ]
  },
  {
   "cell_type": "code",
   "execution_count": 44,
   "id": "dfe7d06d",
   "metadata": {},
   "outputs": [
    {
     "data": {
      "text/plain": [
       "(array([ 4804., 13896., 18884., 18694., 18710., 18825., 18911., 19092.,\n",
       "        13694.,  4491.]),\n",
       " array([   8359. ,  459326.7,  910294.4, 1361262.1, 1812229.8, 2263197.5,\n",
       "        2714165.2, 3165132.9, 3616100.6, 4067068.3, 4518036. ]),\n",
       " <BarContainer object of 10 artists>)"
      ]
     },
     "execution_count": 44,
     "metadata": {},
     "output_type": "execute_result"
    },
    {
     "data": {
      "image/png": "[encoded data removed]",
      "text/plain": [
       "<Figure size 432x288 with 1 Axes>"
      ]
     },
     "metadata": {
      "needs_background": "light"
     },
     "output_type": "display_data"
    }
   ],
   "source": [
    "plt.hist(relevant_data['email'], bins=10)"
   ]
  },
  {
   "cell_type": "code",
   "execution_count": 48,
   "id": "e98fb83b",
   "metadata": {},
   "outputs": [
    {
     "data": {
      "text/plain": [
       "(array([ 4016., 11535., 18687., 20208., 20209., 19882., 20601., 19142.,\n",
       "        11745.,  3976.]),\n",
       " array([   40330. ,  1589175.2,  3138020.4,  4686865.6,  6235710.8,\n",
       "         7784556. ,  9333401.2, 10882246.4, 12431091.6, 13979936.8,\n",
       "        15528782. ]),\n",
       " <BarContainer object of 10 artists>)"
      ]
     },
     "execution_count": 48,
     "metadata": {},
     "output_type": "execute_result"
    },
    {
     "data": {
      "image/png": "[encoded data removed]",
      "text/plain": [
       "<Figure size 432x288 with 1 Axes>"
      ]
     },
     "metadata": {
      "needs_background": "light"
     },
     "output_type": "display_data"
    }
   ],
   "source": [
    "plt.hist(relevant_data[\"google\"], bins=10)"
   ]
  },
  {
   "cell_type": "code",
   "execution_count": 64,
   "id": "4bfe282e",
   "metadata": {},
   "outputs": [
    {
     "data": {
      "image/png": "[encoded data removed]",
      "text/plain": [
       "<Figure size 432x288 with 1 Axes>"
      ]
     },
     "metadata": {
      "needs_background": "light"
     },
     "output_type": "display_data"
    }
   ],
   "source": [
    "x = np.linspace(0, 10, 1000)\n",
    "fig, ax = plt.subplots()\n",
    "ax.plot(relevant_data['email'], np.zeros_like(relevant_data['email']), 'b', label='Email')\n",
    "ax.plot(relevant_data['social'], np.zeros_like(relevant_data['social']), 'sr', label='Social')\n",
    "ax.axis('equal')\n",
    "leg = ax.legend();"
   ]
  },
  {
   "cell_type": "code",
   "execution_count": 15,
   "id": "df59ed91",
   "metadata": {},
   "outputs": [
    {
     "data": {
      "text/plain": [
       "<matplotlib.legend.Legend at 0x1c6bc6344c0>"
      ]
     },
     "execution_count": 15,
     "metadata": {},
     "output_type": "execute_result"
    },
    {
     "data": {
      "image/png": "[encoded data removed]",
      "text/plain": [
       "<Figure size 432x288 with 1 Axes>"
      ]
     },
     "metadata": {
      "needs_background": "light"
     },
     "output_type": "display_data"
    }
   ],
   "source": [
    "plt.plot(relevant_data['gaming'], np.zeros_like(relevant_data['gaming']), '--r', label=\"Gaming\")\n",
    "plt.legend()\n",
    "# univariate analysis of gaming, email and social on figure above and below"
   ]
  },
  {
   "cell_type": "code",
   "execution_count": 60,
   "id": "ab300730",
   "metadata": {},
   "outputs": [
    {
     "data": {
      "text/plain": [
       "<matplotlib.legend.Legend at 0x1c6c356eaf0>"
      ]
     },
     "execution_count": 60,
     "metadata": {},
     "output_type": "execute_result"
    },
    {
     "data": {
      "image/png": "[encoded data removed]",
      "text/plain": [
       "<Figure size 432x288 with 1 Axes>"
      ]
     },
     "metadata": {
      "needs_background": "light"
     },
     "output_type": "display_data"
    }
   ],
   "source": [
    "plt.plot(relevant_data['netflix'], np.zeros_like(relevant_data['netflix']), 'sr', label=\"netflix\")\n",
    "plt.plot(relevant_data['youtube'], np.zeros_like(relevant_data['youtube']), 'b', label=\"youtube\")\n",
    "plt.legend()"
   ]
  },
  {
   "cell_type": "markdown",
   "id": "cf9a10f6",
   "metadata": {},
   "source": [
    "## Bivariate Analysis"
   ]
  },
  {
   "cell_type": "markdown",
   "id": "453550c4",
   "metadata": {},
   "source": [
    "### below is Bivariate analysis using each application with total data volume\n",
    "\n",
    "It shows positive corelation, that when gaming data increase the total data volume increases too"
   ]
  },
  {
   "cell_type": "code",
   "execution_count": 22,
   "id": "bc0f2b7d",
   "metadata": {},
   "outputs": [
    {
     "data": {
      "text/plain": [
       "Text(0, 0.5, 'Total Data Volume')"
      ]
     },
     "execution_count": 22,
     "metadata": {},
     "output_type": "execute_result"
    },
    {
     "data": {
      "image/png": "[encoded data removed]",
      "text/plain": [
       "<Figure size 432x288 with 1 Axes>"
      ]
     },
     "metadata": {
      "needs_background": "light"
     },
     "output_type": "display_data"
    }
   ],
   "source": [
    "sum_column = df_clean[\"totalUL\"] + df_clean[\"totalDL\"]\n",
    "plt.scatter(df_clean['gaming'], sum_column, alpha=0.1)\n",
    "plt.xlabel('Gaming Data')\n",
    "plt.ylabel('Total Data Volume')"
   ]
  },
  {
   "cell_type": "code",
   "execution_count": 19,
   "id": "29599d8b",
   "metadata": {},
   "outputs": [
    {
     "data": {
      "text/plain": [
       "<matplotlib.collections.PathCollection at 0x1c6c1053550>"
      ]
     },
     "execution_count": 19,
     "metadata": {},
     "output_type": "execute_result"
    },
    {
     "data": {
      "image/png": "[encoded data removed]",
      "text/plain": [
       "<Figure size 432x288 with 1 Axes>"
      ]
     },
     "metadata": {
      "needs_background": "light"
     },
     "output_type": "display_data"
    }
   ],
   "source": [
    "plt.scatter(df_clean['google'], sum_column)"
   ]
  },
  {
   "cell_type": "code",
   "execution_count": 20,
   "id": "84d1113c",
   "metadata": {},
   "outputs": [
    {
     "data": {
      "text/plain": [
       "<matplotlib.collections.PathCollection at 0x1c6c105ed90>"
      ]
     },
     "execution_count": 20,
     "metadata": {},
     "output_type": "execute_result"
    },
    {
     "data": {
      "image/png": "[encoded data removed]",
      "text/plain": [
       "<Figure size 432x288 with 1 Axes>"
      ]
     },
     "metadata": {
      "needs_background": "light"
     },
     "output_type": "display_data"
    }
   ],
   "source": [
    "plt.scatter(df_clean['youtube'], sum_column)"
   ]
  },
  {
   "cell_type": "code",
   "execution_count": 21,
   "id": "1b440954",
   "metadata": {},
   "outputs": [
    {
     "data": {
      "text/plain": [
       "<matplotlib.collections.PathCollection at 0x1c6c15a91c0>"
      ]
     },
     "execution_count": 21,
     "metadata": {},
     "output_type": "execute_result"
    },
    {
     "data": {
      "image/png": "[encoded data removed]",
      "text/plain": [
       "<Figure size 432x288 with 1 Axes>"
      ]
     },
     "metadata": {
      "needs_background": "light"
     },
     "output_type": "display_data"
    }
   ],
   "source": [
    "plt.scatter(df_clean['social'], sum_column)"
   ]
  },
  {
   "cell_type": "code",
   "execution_count": 23,
   "id": "5a12edf8",
   "metadata": {},
   "outputs": [
    {
     "data": {
      "text/plain": [
       "<matplotlib.collections.PathCollection at 0x1c6bd639bb0>"
      ]
     },
     "execution_count": 23,
     "metadata": {},
     "output_type": "execute_result"
    },
    {
     "data": {
      "image/png": "[encoded data removed]",
      "text/plain": [
       "<Figure size 432x288 with 1 Axes>"
      ]
     },
     "metadata": {
      "needs_background": "light"
     },
     "output_type": "display_data"
    }
   ],
   "source": [
    "plt.scatter(df_clean['email'], sum_column)"
   ]
  },
  {
   "cell_type": "code",
   "execution_count": 25,
   "id": "d076eea1",
   "metadata": {},
   "outputs": [
    {
     "data": {
      "text/plain": [
       "<matplotlib.collections.PathCollection at 0x1c6bd6bef40>"
      ]
     },
     "execution_count": 25,
     "metadata": {},
     "output_type": "execute_result"
    },
    {
     "data": {
      "image/png": "[encoded data removed]",
      "text/plain": [
       "<Figure size 432x288 with 1 Axes>"
      ]
     },
     "metadata": {
      "needs_background": "light"
     },
     "output_type": "display_data"
    }
   ],
   "source": [
    "plt.scatter(df_clean['netflix'], sum_column, alpha=0.1)"
   ]
  },
  {
   "cell_type": "markdown",
   "id": "95b7d292",
   "metadata": {},
   "source": [
    "## Corelation Analysis"
   ]
  },
  {
   "cell_type": "markdown",
   "id": "c983d6c2",
   "metadata": {},
   "source": [
    "#### Corelation Analysis between the Applications"
   ]
  },
  {
   "cell_type": "code",
   "execution_count": 26,
   "id": "cb7a2ac6",
   "metadata": {},
   "outputs": [
    {
     "data": {
      "text/html": [
       "<style type=\"text/css\">\n",
       "#T_ad3a0_row0_col0, #T_ad3a0_row1_col1, #T_ad3a0_row2_col2, #T_ad3a0_row3_col3, #T_ad3a0_row4_col4, #T_ad3a0_row5_col5 {\n",
       "  background-color: #ff00ff;\n",
       "  color: #f1f1f1;\n",
       "}\n",
       "#T_ad3a0_row0_col1, #T_ad3a0_row0_col2, #T_ad3a0_row0_col3, #T_ad3a0_row1_col0, #T_ad3a0_row1_col2, #T_ad3a0_row1_col3, #T_ad3a0_row1_col4, #T_ad3a0_row1_col5, #T_ad3a0_row2_col0, #T_ad3a0_row2_col1, #T_ad3a0_row2_col4, #T_ad3a0_row2_col5, #T_ad3a0_row3_col0, #T_ad3a0_row3_col1, #T_ad3a0_row3_col4, #T_ad3a0_row4_col2, #T_ad3a0_row4_col3, #T_ad3a0_row5_col1, #T_ad3a0_row5_col2, #T_ad3a0_row5_col4 {\n",
       "  background-color: #00ffff;\n",
       "  color: #000000;\n",
       "}\n",
       "#T_ad3a0_row0_col4, #T_ad3a0_row0_col5, #T_ad3a0_row2_col3, #T_ad3a0_row3_col2, #T_ad3a0_row3_col5, #T_ad3a0_row4_col0, #T_ad3a0_row4_col1, #T_ad3a0_row4_col5, #T_ad3a0_row5_col0, #T_ad3a0_row5_col3 {\n",
       "  background-color: #01feff;\n",
       "  color: #000000;\n",
       "}\n",
       "</style>\n",
       "<table id=\"T_ad3a0_\">\n",
       "  <thead>\n",
       "    <tr>\n",
       "      <th class=\"blank level0\" >&nbsp;</th>\n",
       "      <th class=\"col_heading level0 col0\" >email</th>\n",
       "      <th class=\"col_heading level0 col1\" >gaming</th>\n",
       "      <th class=\"col_heading level0 col2\" >google</th>\n",
       "      <th class=\"col_heading level0 col3\" >youtube</th>\n",
       "      <th class=\"col_heading level0 col4\" >social</th>\n",
       "      <th class=\"col_heading level0 col5\" >netflix</th>\n",
       "    </tr>\n",
       "  </thead>\n",
       "  <tbody>\n",
       "    <tr>\n",
       "      <th id=\"T_ad3a0_level0_row0\" class=\"row_heading level0 row0\" >email</th>\n",
       "      <td id=\"T_ad3a0_row0_col0\" class=\"data row0 col0\" >1.000000</td>\n",
       "      <td id=\"T_ad3a0_row0_col1\" class=\"data row0 col1\" >-0.000644</td>\n",
       "      <td id=\"T_ad3a0_row0_col2\" class=\"data row0 col2\" >-0.000412</td>\n",
       "      <td id=\"T_ad3a0_row0_col3\" class=\"data row0 col3\" >-0.002919</td>\n",
       "      <td id=\"T_ad3a0_row0_col4\" class=\"data row0 col4\" >0.004032</td>\n",
       "      <td id=\"T_ad3a0_row0_col5\" class=\"data row0 col5\" >0.001029</td>\n",
       "    </tr>\n",
       "    <tr>\n",
       "      <th id=\"T_ad3a0_level0_row1\" class=\"row_heading level0 row1\" >gaming</th>\n",
       "      <td id=\"T_ad3a0_row1_col0\" class=\"data row1 col0\" >-0.000644</td>\n",
       "      <td id=\"T_ad3a0_row1_col1\" class=\"data row1 col1\" >1.000000</td>\n",
       "      <td id=\"T_ad3a0_row1_col2\" class=\"data row1 col2\" >-0.000994</td>\n",
       "      <td id=\"T_ad3a0_row1_col3\" class=\"data row1 col3\" >-0.002999</td>\n",
       "      <td id=\"T_ad3a0_row1_col4\" class=\"data row1 col4\" >0.001082</td>\n",
       "      <td id=\"T_ad3a0_row1_col5\" class=\"data row1 col5\" >-0.003109</td>\n",
       "    </tr>\n",
       "    <tr>\n",
       "      <th id=\"T_ad3a0_level0_row2\" class=\"row_heading level0 row2\" >google</th>\n",
       "      <td id=\"T_ad3a0_row2_col0\" class=\"data row2 col0\" >-0.000412</td>\n",
       "      <td id=\"T_ad3a0_row2_col1\" class=\"data row2 col1\" >-0.000994</td>\n",
       "      <td id=\"T_ad3a0_row2_col2\" class=\"data row2 col2\" >1.000000</td>\n",
       "      <td id=\"T_ad3a0_row2_col3\" class=\"data row2 col3\" >0.002277</td>\n",
       "      <td id=\"T_ad3a0_row2_col4\" class=\"data row2 col4\" >-0.001708</td>\n",
       "      <td id=\"T_ad3a0_row2_col5\" class=\"data row2 col5\" >-0.001902</td>\n",
       "    </tr>\n",
       "    <tr>\n",
       "      <th id=\"T_ad3a0_level0_row3\" class=\"row_heading level0 row3\" >youtube</th>\n",
       "      <td id=\"T_ad3a0_row3_col0\" class=\"data row3 col0\" >-0.002919</td>\n",
       "      <td id=\"T_ad3a0_row3_col1\" class=\"data row3 col1\" >-0.002999</td>\n",
       "      <td id=\"T_ad3a0_row3_col2\" class=\"data row3 col2\" >0.002277</td>\n",
       "      <td id=\"T_ad3a0_row3_col3\" class=\"data row3 col3\" >1.000000</td>\n",
       "      <td id=\"T_ad3a0_row3_col4\" class=\"data row3 col4\" >0.000548</td>\n",
       "      <td id=\"T_ad3a0_row3_col5\" class=\"data row3 col5\" >0.002882</td>\n",
       "    </tr>\n",
       "    <tr>\n",
       "      <th id=\"T_ad3a0_level0_row4\" class=\"row_heading level0 row4\" >social</th>\n",
       "      <td id=\"T_ad3a0_row4_col0\" class=\"data row4 col0\" >0.004032</td>\n",
       "      <td id=\"T_ad3a0_row4_col1\" class=\"data row4 col1\" >0.001082</td>\n",
       "      <td id=\"T_ad3a0_row4_col2\" class=\"data row4 col2\" >-0.001708</td>\n",
       "      <td id=\"T_ad3a0_row4_col3\" class=\"data row4 col3\" >0.000548</td>\n",
       "      <td id=\"T_ad3a0_row4_col4\" class=\"data row4 col4\" >1.000000</td>\n",
       "      <td id=\"T_ad3a0_row4_col5\" class=\"data row4 col5\" >0.001013</td>\n",
       "    </tr>\n",
       "    <tr>\n",
       "      <th id=\"T_ad3a0_level0_row5\" class=\"row_heading level0 row5\" >netflix</th>\n",
       "      <td id=\"T_ad3a0_row5_col0\" class=\"data row5 col0\" >0.001029</td>\n",
       "      <td id=\"T_ad3a0_row5_col1\" class=\"data row5 col1\" >-0.003109</td>\n",
       "      <td id=\"T_ad3a0_row5_col2\" class=\"data row5 col2\" >-0.001902</td>\n",
       "      <td id=\"T_ad3a0_row5_col3\" class=\"data row5 col3\" >0.002882</td>\n",
       "      <td id=\"T_ad3a0_row5_col4\" class=\"data row5 col4\" >0.001013</td>\n",
       "      <td id=\"T_ad3a0_row5_col5\" class=\"data row5 col5\" >1.000000</td>\n",
       "    </tr>\n",
       "  </tbody>\n",
       "</table>\n"
      ],
      "text/plain": [
       "<pandas.io.formats.style.Styler at 0x1c6c20a4be0>"
      ]
     },
     "execution_count": 26,
     "metadata": {},
     "output_type": "execute_result"
    }
   ],
   "source": [
    "corelation =  relevant_data[['email','gaming','google','youtube','social','netflix']].corr() \n",
    "corelation.style.background_gradient(cmap = \"cool\")"
   ]
  },
  {
   "cell_type": "markdown",
   "id": "ebc7e44e",
   "metadata": {},
   "source": [
    "## Few insights from corelation table\n",
    "\n",
    "I) There is a positive corelation between social media and email which is 0.004 far higher than relation to others\n",
    "II) There is negative corelation between gaming and email which is -0.0006, those who use gaming apps dont use much emails\n",
    "III) There is negative corelation between google and email which is -0.0004, those who use google dont use much emails"
   ]
  }
 ],
 "metadata": {
  "kernelspec": {
   "display_name": "Python 3 (ipykernel)",
   "language": "python",
   "name": "python3"
  },
  "language_info": {
   "codemirror_mode": {
    "name": "ipython",
    "version": 3
   },
   "file_extension": ".py",
   "mimetype": "text/x-python",
   "name": "python",
   "nbconvert_exporter": "python",
   "pygments_lexer": "ipython3",
   "version": "3.9.7"
  }
 },
 "nbformat": 4,
 "nbformat_minor": 5
}
