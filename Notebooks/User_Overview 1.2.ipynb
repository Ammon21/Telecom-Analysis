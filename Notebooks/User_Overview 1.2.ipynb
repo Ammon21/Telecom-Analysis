{
 "cells": [
  {
   "cell_type": "code",
   "execution_count": 26,
   "id": "0a828f47",
   "metadata": {},
   "outputs": [],
   "source": [
    "import pandas as pd\n",
    "import seaborn as sb\n",
    "import matplotlib.pyplot as plt\n",
    "import numpy as np"
   ]
  },
  {
   "cell_type": "code",
   "execution_count": 6,
   "id": "c9173404",
   "metadata": {},
   "outputs": [],
   "source": [
    "df_clean = pd.read_csv(r\"C:\\\\Users\\\\dell\\\\Desktop\\\\Week1_challenge_data_source.csv\", encoding=\"latin-1\")"
   ]
  },
  {
   "cell_type": "code",
   "execution_count": 7,
   "id": "d50be85c",
   "metadata": {},
   "outputs": [],
   "source": [
    "df_clean=df_clean.rename(columns = {'Total DL (Bytes)' : 'totalDL','Total UL (Bytes)' : 'totalUL','Dur. (ms)' : 'dur','MSISDN/Number':'msisdn','Last Location Name':'location','Handset Manufacturer':'manufacturer','Handset Type':'handset'})\n",
    "\n",
    "sum_column = df_clean[\"totalUL\"] + df_clean[\"totalDL\"]\n",
    "\n",
    "\n",
    "google = df_clean['Google DL (Bytes)']+ df_clean['Google UL (Bytes)']\n",
    "email = df_clean['Email DL (Bytes)']+ df_clean['Email UL (Bytes)']\n",
    "gaming = df_clean['Gaming DL (Bytes)']+ df_clean['Gaming UL (Bytes)']\n",
    "youtube = df_clean['Youtube DL (Bytes)']+ df_clean['Youtube UL (Bytes)']\n",
    "netflix = df_clean['Netflix DL (Bytes)']+ df_clean['Netflix UL (Bytes)']\n",
    "social = df_clean['Social Media DL (Bytes)']+ df_clean['Social Media UL (Bytes)']\n",
    "\n",
    "df_clean['google']=google\n",
    "df_clean['email']=email\n",
    "df_clean['gaming']=gaming\n",
    "df_clean['youtube']=youtube\n",
    "df_clean['netflix']=netflix\n",
    "df_clean['social']=social\n",
    "\n",
    "relevant_data=df_clean[['msisdn','dur','totalUL', 'totalDL', 'google','email','gaming','youtube','netflix','social']]"
   ]
  },
  {
   "cell_type": "markdown",
   "id": "a65b9772",
   "metadata": {},
   "source": [
    "#### building a dataframe containg the relevant variables"
   ]
  },
  {
   "cell_type": "code",
   "execution_count": 8,
   "id": "affc1240",
   "metadata": {},
   "outputs": [
    {
     "data": {
      "text/html": [
       "<div>\n",
       "<style scoped>\n",
       "    .dataframe tbody tr th:only-of-type {\n",
       "        vertical-align: middle;\n",
       "    }\n",
       "\n",
       "    .dataframe tbody tr th {\n",
       "        vertical-align: top;\n",
       "    }\n",
       "\n",
       "    .dataframe thead th {\n",
       "        text-align: right;\n",
       "    }\n",
       "</style>\n",
       "<table border=\"1\" class=\"dataframe\">\n",
       "  <thead>\n",
       "    <tr style=\"text-align: right;\">\n",
       "      <th></th>\n",
       "      <th>msisdn</th>\n",
       "      <th>dur</th>\n",
       "      <th>totalUL</th>\n",
       "      <th>totalDL</th>\n",
       "      <th>google</th>\n",
       "      <th>email</th>\n",
       "      <th>gaming</th>\n",
       "      <th>youtube</th>\n",
       "      <th>netflix</th>\n",
       "      <th>social</th>\n",
       "    </tr>\n",
       "  </thead>\n",
       "  <tbody>\n",
       "    <tr>\n",
       "      <th>count</th>\n",
       "      <td>1.489350e+05</td>\n",
       "      <td>1.500000e+05</td>\n",
       "      <td>1.500000e+05</td>\n",
       "      <td>1.500000e+05</td>\n",
       "      <td>1.500010e+05</td>\n",
       "      <td>1.500010e+05</td>\n",
       "      <td>1.500010e+05</td>\n",
       "      <td>1.500010e+05</td>\n",
       "      <td>1.500010e+05</td>\n",
       "      <td>1.500010e+05</td>\n",
       "    </tr>\n",
       "    <tr>\n",
       "      <th>mean</th>\n",
       "      <td>4.188282e+10</td>\n",
       "      <td>1.046086e+05</td>\n",
       "      <td>4.112121e+07</td>\n",
       "      <td>4.546434e+08</td>\n",
       "      <td>7.807295e+06</td>\n",
       "      <td>2.259102e+06</td>\n",
       "      <td>4.303331e+08</td>\n",
       "      <td>2.264348e+07</td>\n",
       "      <td>2.262861e+07</td>\n",
       "      <td>1.828250e+06</td>\n",
       "    </tr>\n",
       "    <tr>\n",
       "      <th>std</th>\n",
       "      <td>2.447443e+12</td>\n",
       "      <td>8.103762e+04</td>\n",
       "      <td>1.127639e+07</td>\n",
       "      <td>2.441429e+08</td>\n",
       "      <td>3.516420e+06</td>\n",
       "      <td>1.071109e+06</td>\n",
       "      <td>2.440199e+08</td>\n",
       "      <td>9.246800e+06</td>\n",
       "      <td>9.260820e+06</td>\n",
       "      <td>1.035646e+06</td>\n",
       "    </tr>\n",
       "    <tr>\n",
       "      <th>min</th>\n",
       "      <td>3.360100e+10</td>\n",
       "      <td>7.142000e+03</td>\n",
       "      <td>2.866892e+06</td>\n",
       "      <td>7.114041e+06</td>\n",
       "      <td>4.033000e+04</td>\n",
       "      <td>8.359000e+03</td>\n",
       "      <td>3.063580e+05</td>\n",
       "      <td>7.890300e+04</td>\n",
       "      <td>9.843200e+04</td>\n",
       "      <td>1.563000e+03</td>\n",
       "    </tr>\n",
       "    <tr>\n",
       "      <th>25%</th>\n",
       "      <td>3.365130e+10</td>\n",
       "      <td>5.744050e+04</td>\n",
       "      <td>3.322201e+07</td>\n",
       "      <td>2.431068e+08</td>\n",
       "      <td>4.943599e+06</td>\n",
       "      <td>1.359344e+06</td>\n",
       "      <td>2.187279e+08</td>\n",
       "      <td>1.599846e+07</td>\n",
       "      <td>1.597946e+07</td>\n",
       "      <td>9.322180e+05</td>\n",
       "    </tr>\n",
       "    <tr>\n",
       "      <th>50%</th>\n",
       "      <td>3.366371e+10</td>\n",
       "      <td>8.639900e+04</td>\n",
       "      <td>4.114331e+07</td>\n",
       "      <td>4.558411e+08</td>\n",
       "      <td>7.812835e+06</td>\n",
       "      <td>2.263567e+06</td>\n",
       "      <td>4.316150e+08</td>\n",
       "      <td>2.266177e+07</td>\n",
       "      <td>2.263554e+07</td>\n",
       "      <td>1.826471e+06</td>\n",
       "    </tr>\n",
       "    <tr>\n",
       "      <th>75%</th>\n",
       "      <td>3.368349e+10</td>\n",
       "      <td>1.324302e+05</td>\n",
       "      <td>4.903424e+07</td>\n",
       "      <td>6.657055e+08</td>\n",
       "      <td>1.068280e+07</td>\n",
       "      <td>3.159818e+06</td>\n",
       "      <td>6.414159e+08</td>\n",
       "      <td>2.929260e+07</td>\n",
       "      <td>2.929044e+07</td>\n",
       "      <td>2.727487e+06</td>\n",
       "    </tr>\n",
       "    <tr>\n",
       "      <th>max</th>\n",
       "      <td>8.823971e+14</td>\n",
       "      <td>1.859336e+06</td>\n",
       "      <td>7.833131e+07</td>\n",
       "      <td>9.029696e+08</td>\n",
       "      <td>1.552878e+07</td>\n",
       "      <td>4.518036e+06</td>\n",
       "      <td>8.592028e+08</td>\n",
       "      <td>4.519008e+07</td>\n",
       "      <td>4.519815e+07</td>\n",
       "      <td>3.650861e+06</td>\n",
       "    </tr>\n",
       "  </tbody>\n",
       "</table>\n",
       "</div>"
      ],
      "text/plain": [
       "             msisdn           dur       totalUL       totalDL        google  \\\n",
       "count  1.489350e+05  1.500000e+05  1.500000e+05  1.500000e+05  1.500010e+05   \n",
       "mean   4.188282e+10  1.046086e+05  4.112121e+07  4.546434e+08  7.807295e+06   \n",
       "std    2.447443e+12  8.103762e+04  1.127639e+07  2.441429e+08  3.516420e+06   \n",
       "min    3.360100e+10  7.142000e+03  2.866892e+06  7.114041e+06  4.033000e+04   \n",
       "25%    3.365130e+10  5.744050e+04  3.322201e+07  2.431068e+08  4.943599e+06   \n",
       "50%    3.366371e+10  8.639900e+04  4.114331e+07  4.558411e+08  7.812835e+06   \n",
       "75%    3.368349e+10  1.324302e+05  4.903424e+07  6.657055e+08  1.068280e+07   \n",
       "max    8.823971e+14  1.859336e+06  7.833131e+07  9.029696e+08  1.552878e+07   \n",
       "\n",
       "              email        gaming       youtube       netflix        social  \n",
       "count  1.500010e+05  1.500010e+05  1.500010e+05  1.500010e+05  1.500010e+05  \n",
       "mean   2.259102e+06  4.303331e+08  2.264348e+07  2.262861e+07  1.828250e+06  \n",
       "std    1.071109e+06  2.440199e+08  9.246800e+06  9.260820e+06  1.035646e+06  \n",
       "min    8.359000e+03  3.063580e+05  7.890300e+04  9.843200e+04  1.563000e+03  \n",
       "25%    1.359344e+06  2.187279e+08  1.599846e+07  1.597946e+07  9.322180e+05  \n",
       "50%    2.263567e+06  4.316150e+08  2.266177e+07  2.263554e+07  1.826471e+06  \n",
       "75%    3.159818e+06  6.414159e+08  2.929260e+07  2.929044e+07  2.727487e+06  \n",
       "max    4.518036e+06  8.592028e+08  4.519008e+07  4.519815e+07  3.650861e+06  "
      ]
     },
     "execution_count": 8,
     "metadata": {},
     "output_type": "execute_result"
    }
   ],
   "source": [
    "relevant_data.describe()"
   ]
  },
  {
   "cell_type": "markdown",
   "id": "b0710207",
   "metadata": {},
   "source": [
    "## Insights\n",
    "\n",
    "I)   Users download more than they upload\n",
    "II)  Users upload data is more distributed than the download data\n",
    "III) Users spend more on games than on social medial and other platforms"
   ]
  },
  {
   "cell_type": "code",
   "execution_count": 13,
   "id": "d0a6dd31",
   "metadata": {},
   "outputs": [
    {
     "data": {
      "text/plain": [
       "<AxesSubplot:>"
      ]
     },
     "execution_count": 13,
     "metadata": {},
     "output_type": "execute_result"
    },
    {
     "data": {
      "image/png": "[encoded data removed]",
      "text/plain": [
       "<Figure size 432x288 with 1 Axes>"
      ]
     },
     "metadata": {
      "needs_background": "light"
     },
     "output_type": "display_data"
    }
   ],
   "source": [
    "relevant_data[['youtube','gaming','email','netflix','social']].sum().plot(kind='line')"
   ]
  },
  {
   "cell_type": "code",
   "execution_count": 19,
   "id": "b400e415",
   "metadata": {},
   "outputs": [
    {
     "data": {
      "text/plain": [
       "<AxesSubplot:title={'center':'Top user application engagment'}, ylabel='None'>"
      ]
     },
     "execution_count": 19,
     "metadata": {},
     "output_type": "execute_result"
    },
    {
     "data": {
      "image/png": "[encoded data removed]",
      "text/plain": [
       "<Figure size 432x288 with 1 Axes>"
      ]
     },
     "metadata": {},
     "output_type": "display_data"
    }
   ],
   "source": [
    "relevant_data[['youtube','gaming','email','netflix','social']].sum().plot(kind='pie', title=\"Top user application engagment\")"
   ]
  },
  {
   "cell_type": "markdown",
   "id": "f2e4b385",
   "metadata": {},
   "source": [
    "##### The above plots show that users spend more time on gaming and then after youtube"
   ]
  },
  {
   "cell_type": "code",
   "execution_count": 24,
   "id": "ee2efe55",
   "metadata": {},
   "outputs": [
    {
     "data": {
      "text/html": [
       "<style type=\"text/css\">\n",
       "#T_a1285_row0_col0, #T_a1285_row1_col1, #T_a1285_row2_col2, #T_a1285_row3_col3, #T_a1285_row4_col4 {\n",
       "  background-color: #ff00ff;\n",
       "  color: #f1f1f1;\n",
       "}\n",
       "#T_a1285_row0_col1, #T_a1285_row0_col2, #T_a1285_row0_col3, #T_a1285_row1_col0, #T_a1285_row1_col2, #T_a1285_row1_col3, #T_a1285_row1_col4, #T_a1285_row2_col0, #T_a1285_row2_col1, #T_a1285_row2_col3, #T_a1285_row3_col2, #T_a1285_row4_col1, #T_a1285_row4_col3 {\n",
       "  background-color: #00ffff;\n",
       "  color: #000000;\n",
       "}\n",
       "#T_a1285_row0_col4, #T_a1285_row2_col4, #T_a1285_row3_col0, #T_a1285_row3_col1, #T_a1285_row3_col4, #T_a1285_row4_col0, #T_a1285_row4_col2 {\n",
       "  background-color: #01feff;\n",
       "  color: #000000;\n",
       "}\n",
       "</style>\n",
       "<table id=\"T_a1285_\">\n",
       "  <thead>\n",
       "    <tr>\n",
       "      <th class=\"blank level0\" >&nbsp;</th>\n",
       "      <th class=\"col_heading level0 col0\" >email</th>\n",
       "      <th class=\"col_heading level0 col1\" >gaming</th>\n",
       "      <th class=\"col_heading level0 col2\" >youtube</th>\n",
       "      <th class=\"col_heading level0 col3\" >social</th>\n",
       "      <th class=\"col_heading level0 col4\" >netflix</th>\n",
       "    </tr>\n",
       "  </thead>\n",
       "  <tbody>\n",
       "    <tr>\n",
       "      <th id=\"T_a1285_level0_row0\" class=\"row_heading level0 row0\" >email</th>\n",
       "      <td id=\"T_a1285_row0_col0\" class=\"data row0 col0\" >1.000000</td>\n",
       "      <td id=\"T_a1285_row0_col1\" class=\"data row0 col1\" >-0.000644</td>\n",
       "      <td id=\"T_a1285_row0_col2\" class=\"data row0 col2\" >-0.002919</td>\n",
       "      <td id=\"T_a1285_row0_col3\" class=\"data row0 col3\" >0.004032</td>\n",
       "      <td id=\"T_a1285_row0_col4\" class=\"data row0 col4\" >0.001029</td>\n",
       "    </tr>\n",
       "    <tr>\n",
       "      <th id=\"T_a1285_level0_row1\" class=\"row_heading level0 row1\" >gaming</th>\n",
       "      <td id=\"T_a1285_row1_col0\" class=\"data row1 col0\" >-0.000644</td>\n",
       "      <td id=\"T_a1285_row1_col1\" class=\"data row1 col1\" >1.000000</td>\n",
       "      <td id=\"T_a1285_row1_col2\" class=\"data row1 col2\" >-0.002999</td>\n",
       "      <td id=\"T_a1285_row1_col3\" class=\"data row1 col3\" >0.001082</td>\n",
       "      <td id=\"T_a1285_row1_col4\" class=\"data row1 col4\" >-0.003109</td>\n",
       "    </tr>\n",
       "    <tr>\n",
       "      <th id=\"T_a1285_level0_row2\" class=\"row_heading level0 row2\" >youtube</th>\n",
       "      <td id=\"T_a1285_row2_col0\" class=\"data row2 col0\" >-0.002919</td>\n",
       "      <td id=\"T_a1285_row2_col1\" class=\"data row2 col1\" >-0.002999</td>\n",
       "      <td id=\"T_a1285_row2_col2\" class=\"data row2 col2\" >1.000000</td>\n",
       "      <td id=\"T_a1285_row2_col3\" class=\"data row2 col3\" >0.000548</td>\n",
       "      <td id=\"T_a1285_row2_col4\" class=\"data row2 col4\" >0.002882</td>\n",
       "    </tr>\n",
       "    <tr>\n",
       "      <th id=\"T_a1285_level0_row3\" class=\"row_heading level0 row3\" >social</th>\n",
       "      <td id=\"T_a1285_row3_col0\" class=\"data row3 col0\" >0.004032</td>\n",
       "      <td id=\"T_a1285_row3_col1\" class=\"data row3 col1\" >0.001082</td>\n",
       "      <td id=\"T_a1285_row3_col2\" class=\"data row3 col2\" >0.000548</td>\n",
       "      <td id=\"T_a1285_row3_col3\" class=\"data row3 col3\" >1.000000</td>\n",
       "      <td id=\"T_a1285_row3_col4\" class=\"data row3 col4\" >0.001013</td>\n",
       "    </tr>\n",
       "    <tr>\n",
       "      <th id=\"T_a1285_level0_row4\" class=\"row_heading level0 row4\" >netflix</th>\n",
       "      <td id=\"T_a1285_row4_col0\" class=\"data row4 col0\" >0.001029</td>\n",
       "      <td id=\"T_a1285_row4_col1\" class=\"data row4 col1\" >-0.003109</td>\n",
       "      <td id=\"T_a1285_row4_col2\" class=\"data row4 col2\" >0.002882</td>\n",
       "      <td id=\"T_a1285_row4_col3\" class=\"data row4 col3\" >0.001013</td>\n",
       "      <td id=\"T_a1285_row4_col4\" class=\"data row4 col4\" >1.000000</td>\n",
       "    </tr>\n",
       "  </tbody>\n",
       "</table>\n"
      ],
      "text/plain": [
       "<pandas.io.formats.style.Styler at 0x12f67ac0e20>"
      ]
     },
     "execution_count": 24,
     "metadata": {},
     "output_type": "execute_result"
    }
   ],
   "source": [
    "corelation =  relevant_data[['email','gaming','youtube','social','netflix']].corr() \n",
    "corelation.style.background_gradient(cmap = \"cool\")"
   ]
  },
  {
   "cell_type": "markdown",
   "id": "ef984f0b",
   "metadata": {},
   "source": [
    "#### few insights from corelation table\n",
    "\n",
    "I) There is a positive corelation between social media and email which is 0.004 far higher than relation to others\n",
    "II) There is negative corelation between gaming and email which is -0.0006, those who use gaming apps dont use much emails\n"
   ]
  },
  {
   "cell_type": "markdown",
   "id": "103d1d56",
   "metadata": {},
   "source": [
    "## Univariate Analysis"
   ]
  },
  {
   "cell_type": "code",
   "execution_count": 28,
   "id": "b65e7b19",
   "metadata": {},
   "outputs": [
    {
     "data": {
      "text/plain": [
       "(array([13998., 15338., 15146., 15238., 14935., 15451., 15322., 15122.,\n",
       "        15376., 14075.]),\n",
       " array([3.06358000e+05, 8.61960006e+07, 1.72085643e+08, 2.57975286e+08,\n",
       "        3.43864928e+08, 4.29754571e+08, 5.15644214e+08, 6.01533856e+08,\n",
       "        6.87423499e+08, 7.73313141e+08, 8.59202784e+08]),\n",
       " <BarContainer object of 10 artists>)"
      ]
     },
     "execution_count": 28,
     "metadata": {},
     "output_type": "execute_result"
    },
    {
     "data": {
      "image/png": "[encoded data removed]",
      "text/plain": [
       "<Figure size 432x288 with 1 Axes>"
      ]
     },
     "metadata": {
      "needs_background": "light"
     },
     "output_type": "display_data"
    }
   ],
   "source": [
    "plt.hist(relevant_data['gaming'], bins=10)\n"
   ]
  },
  {
   "cell_type": "code",
   "execution_count": 29,
   "id": "5667630f",
   "metadata": {},
   "outputs": [
    {
     "data": {
      "text/plain": [
       "(array([ 4804., 13896., 18884., 18694., 18710., 18825., 18911., 19092.,\n",
       "        13694.,  4491.]),\n",
       " array([   8359. ,  459326.7,  910294.4, 1361262.1, 1812229.8, 2263197.5,\n",
       "        2714165.2, 3165132.9, 3616100.6, 4067068.3, 4518036. ]),\n",
       " <BarContainer object of 10 artists>)"
      ]
     },
     "execution_count": 29,
     "metadata": {},
     "output_type": "execute_result"
    },
    {
     "data": {
      "image/png": "[encoded data removed]",
      "text/plain": [
       "<Figure size 432x288 with 1 Axes>"
      ]
     },
     "metadata": {
      "needs_background": "light"
     },
     "output_type": "display_data"
    }
   ],
   "source": [
    "plt.hist(relevant_data['email'], bins=10)"
   ]
  },
  {
   "cell_type": "code",
   "execution_count": 40,
   "id": "f57684c5",
   "metadata": {},
   "outputs": [
    {
     "data": {
      "image/png": "[encoded data removed]",
      "text/plain": [
       "<Figure size 432x288 with 1 Axes>"
      ]
     },
     "metadata": {
      "needs_background": "light"
     },
     "output_type": "display_data"
    }
   ],
   "source": [
    "x = np.linspace(0, 10, 1000)\n",
    "fig, ax = plt.subplots()\n",
    "ax.plot(relevant_data['email'], np.zeros_like(relevant_data['email']), '-b', label='Email')\n",
    "ax.plot(relevant_data['social'], np.zeros_like(relevant_data['social']), '-r', label='Social')\n",
    "ax.axis('equal')\n",
    "leg = ax.legend();"
   ]
  },
  {
   "cell_type": "code",
   "execution_count": 42,
   "id": "681be71f",
   "metadata": {},
   "outputs": [
    {
     "data": {
      "text/plain": [
       "<matplotlib.legend.Legend at 0x12f7068f8e0>"
      ]
     },
     "execution_count": 42,
     "metadata": {},
     "output_type": "execute_result"
    },
    {
     "data": {
      "image/png": "[encoded data removed]",
      "text/plain": [
       "<Figure size 432x288 with 1 Axes>"
      ]
     },
     "metadata": {
      "needs_background": "light"
     },
     "output_type": "display_data"
    }
   ],
   "source": [
    "plt.plot(relevant_data['gaming'], np.zeros_like(relevant_data['gaming']), '--r', label=\"Gaming\")\n",
    "plt.legend()"
   ]
  },
  {
   "cell_type": "code",
   "execution_count": null,
   "id": "03d27cec",
   "metadata": {},
   "outputs": [],
   "source": []
  }
 ],
 "metadata": {
  "kernelspec": {
   "display_name": "Python 3 (ipykernel)",
   "language": "python",
   "name": "python3"
  },
  "language_info": {
   "codemirror_mode": {
    "name": "ipython",
    "version": 3
   },
   "file_extension": ".py",
   "mimetype": "text/x-python",
   "name": "python",
   "nbconvert_exporter": "python",
   "pygments_lexer": "ipython3",
   "version": "3.9.7"
  }
 },
 "nbformat": 4,
 "nbformat_minor": 5
}
