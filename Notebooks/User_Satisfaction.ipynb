{
 "cells": [
  {
   "cell_type": "code",
   "execution_count": 1,
   "id": "99cbfee0",
   "metadata": {},
   "outputs": [],
   "source": [
    "## User Satisafaction Analysis"
   ]
  },
  {
   "cell_type": "code",
   "execution_count": 2,
   "id": "1fcdcda2",
   "metadata": {},
   "outputs": [],
   "source": [
    "import pickle\n",
    "import numpy as np\n",
    "import pandas as pd\n",
    "import math\n",
    "from sklearn import metrics\n",
    "from sklearn.cluster import KMeans\n",
    "from sklearn.preprocessing import StandardScaler, normalize\n",
    "from sklearn.linear_model import LinearRegression\n",
    "from sklearn.model_selection import train_test_split\n",
    "from sqlalchemy import create_engine\n",
    "import matplotlib.pyplot as plt\n",
    "import seaborn as sns\n",
    "import plotly.express as px\n",
    "import plotly.graph_objects as go\n",
    "from plotly.subplots import make_subplots"
   ]
  },
  {
   "cell_type": "code",
   "execution_count": 3,
   "id": "d59b15ea",
   "metadata": {},
   "outputs": [
    {
     "data": {
      "text/html": [
       "<div>\n",
       "<style scoped>\n",
       "    .dataframe tbody tr th:only-of-type {\n",
       "        vertical-align: middle;\n",
       "    }\n",
       "\n",
       "    .dataframe tbody tr th {\n",
       "        vertical-align: top;\n",
       "    }\n",
       "\n",
       "    .dataframe thead th {\n",
       "        text-align: right;\n",
       "    }\n",
       "</style>\n",
       "<table border=\"1\" class=\"dataframe\">\n",
       "  <thead>\n",
       "    <tr style=\"text-align: right;\">\n",
       "      <th></th>\n",
       "      <th>msisdn</th>\n",
       "      <th>cluster</th>\n",
       "      <th>XDR Sessions</th>\n",
       "      <th>dur</th>\n",
       "      <th>total_dv</th>\n",
       "      <th>newcluster</th>\n",
       "    </tr>\n",
       "  </thead>\n",
       "  <tbody>\n",
       "    <tr>\n",
       "      <th>0</th>\n",
       "      <td>3.360100e+10</td>\n",
       "      <td>2</td>\n",
       "      <td>1</td>\n",
       "      <td>116720.0</td>\n",
       "      <td>8.786906e+08</td>\n",
       "      <td>3</td>\n",
       "    </tr>\n",
       "    <tr>\n",
       "      <th>1</th>\n",
       "      <td>3.360100e+10</td>\n",
       "      <td>1</td>\n",
       "      <td>1</td>\n",
       "      <td>181230.0</td>\n",
       "      <td>1.568596e+08</td>\n",
       "      <td>0</td>\n",
       "    </tr>\n",
       "    <tr>\n",
       "      <th>2</th>\n",
       "      <td>3.360100e+10</td>\n",
       "      <td>1</td>\n",
       "      <td>1</td>\n",
       "      <td>134969.0</td>\n",
       "      <td>5.959665e+08</td>\n",
       "      <td>0</td>\n",
       "    </tr>\n",
       "    <tr>\n",
       "      <th>3</th>\n",
       "      <td>3.360101e+10</td>\n",
       "      <td>1</td>\n",
       "      <td>1</td>\n",
       "      <td>49878.0</td>\n",
       "      <td>4.223207e+08</td>\n",
       "      <td>0</td>\n",
       "    </tr>\n",
       "    <tr>\n",
       "      <th>4</th>\n",
       "      <td>3.360101e+10</td>\n",
       "      <td>0</td>\n",
       "      <td>2</td>\n",
       "      <td>37104.0</td>\n",
       "      <td>1.457411e+09</td>\n",
       "      <td>4</td>\n",
       "    </tr>\n",
       "  </tbody>\n",
       "</table>\n",
       "</div>"
      ],
      "text/plain": [
       "         msisdn  cluster  XDR Sessions       dur      total_dv  newcluster\n",
       "0  3.360100e+10        2             1  116720.0  8.786906e+08           3\n",
       "1  3.360100e+10        1             1  181230.0  1.568596e+08           0\n",
       "2  3.360100e+10        1             1  134969.0  5.959665e+08           0\n",
       "3  3.360101e+10        1             1   49878.0  4.223207e+08           0\n",
       "4  3.360101e+10        0             2   37104.0  1.457411e+09           4"
      ]
     },
     "execution_count": 3,
     "metadata": {},
     "output_type": "execute_result"
    }
   ],
   "source": [
    "user_engagement_df = pd.read_csv(\"C:/Users/dell/Desktop/user_engagement_data.csv\")\n",
    "user_engagement_df.head()"
   ]
  },
  {
   "cell_type": "code",
   "execution_count": 5,
   "id": "4d14fa62",
   "metadata": {},
   "outputs": [
    {
     "data": {
      "text/html": [
       "<div>\n",
       "<style scoped>\n",
       "    .dataframe tbody tr th:only-of-type {\n",
       "        vertical-align: middle;\n",
       "    }\n",
       "\n",
       "    .dataframe tbody tr th {\n",
       "        vertical-align: top;\n",
       "    }\n",
       "\n",
       "    .dataframe thead th {\n",
       "        text-align: right;\n",
       "    }\n",
       "</style>\n",
       "<table border=\"1\" class=\"dataframe\">\n",
       "  <thead>\n",
       "    <tr style=\"text-align: right;\">\n",
       "      <th></th>\n",
       "      <th>MSISDN/Number</th>\n",
       "      <th>cluster</th>\n",
       "      <th>Total Avg RTT (ms)</th>\n",
       "      <th>Total Avg Bearer TP (kbps)</th>\n",
       "      <th>Total TCP Retrans. Vol (Bytes)</th>\n",
       "    </tr>\n",
       "  </thead>\n",
       "  <tbody>\n",
       "    <tr>\n",
       "      <th>0</th>\n",
       "      <td>3.360100e+10</td>\n",
       "      <td>0</td>\n",
       "      <td>46.0</td>\n",
       "      <td>76.0</td>\n",
       "      <td>0.0</td>\n",
       "    </tr>\n",
       "    <tr>\n",
       "      <th>1</th>\n",
       "      <td>3.360100e+10</td>\n",
       "      <td>0</td>\n",
       "      <td>31.0</td>\n",
       "      <td>99.0</td>\n",
       "      <td>0.0</td>\n",
       "    </tr>\n",
       "    <tr>\n",
       "      <th>2</th>\n",
       "      <td>3.360100e+10</td>\n",
       "      <td>0</td>\n",
       "      <td>0.0</td>\n",
       "      <td>97.0</td>\n",
       "      <td>0.0</td>\n",
       "    </tr>\n",
       "    <tr>\n",
       "      <th>3</th>\n",
       "      <td>3.360101e+10</td>\n",
       "      <td>0</td>\n",
       "      <td>84.0</td>\n",
       "      <td>248.0</td>\n",
       "      <td>0.0</td>\n",
       "    </tr>\n",
       "    <tr>\n",
       "      <th>4</th>\n",
       "      <td>3.360101e+10</td>\n",
       "      <td>1</td>\n",
       "      <td>119.0</td>\n",
       "      <td>56844.0</td>\n",
       "      <td>9370832.0</td>\n",
       "    </tr>\n",
       "  </tbody>\n",
       "</table>\n",
       "</div>"
      ],
      "text/plain": [
       "   MSISDN/Number  cluster  Total Avg RTT (ms)  Total Avg Bearer TP (kbps)  \\\n",
       "0   3.360100e+10        0                46.0                        76.0   \n",
       "1   3.360100e+10        0                31.0                        99.0   \n",
       "2   3.360100e+10        0                 0.0                        97.0   \n",
       "3   3.360101e+10        0                84.0                       248.0   \n",
       "4   3.360101e+10        1               119.0                     56844.0   \n",
       "\n",
       "   Total TCP Retrans. Vol (Bytes)  \n",
       "0                             0.0  \n",
       "1                             0.0  \n",
       "2                             0.0  \n",
       "3                             0.0  \n",
       "4                       9370832.0  "
      ]
     },
     "execution_count": 5,
     "metadata": {},
     "output_type": "execute_result"
    }
   ],
   "source": [
    "user_experience_df = pd.read_csv(\"C:/Users/dell/Desktop/user_experience_data.csv\")\n",
    "user_experience_df.head()"
   ]
  },
  {
   "cell_type": "markdown",
   "id": "3e67f5cc",
   "metadata": {},
   "source": [
    "## Engagement Score"
   ]
  },
  {
   "cell_type": "code",
   "execution_count": 7,
   "id": "063c09c6",
   "metadata": {},
   "outputs": [],
   "source": [
    "eng_df = user_engagement_df.set_index('msisdn')[\n",
    "    ['XDR Sessions', 'dur', 'total_dv']]"
   ]
  },
  {
   "cell_type": "code",
   "execution_count": 8,
   "id": "219d28e6",
   "metadata": {},
   "outputs": [
    {
     "data": {
      "text/plain": [
       "array([[-0.4812899 , -0.15801408,  0.38229732],\n",
       "       [-0.4812899 ,  0.18814798, -1.08766633],\n",
       "       [-0.4812899 , -0.06008955, -0.19345265],\n",
       "       ...,\n",
       "       [-0.4812899 ,  3.92373087, -0.93439522],\n",
       "       [-0.4812899 ,  0.57342835, -0.19279826],\n",
       "       [-0.4812899 ,  3.8832657 , -1.12372349]])"
      ]
     },
     "execution_count": 8,
     "metadata": {},
     "output_type": "execute_result"
    }
   ],
   "source": [
    "# scale data\n",
    "scaler = StandardScaler()\n",
    "scaled_data = scaler.fit_transform(eng_df)\n",
    "scaled_data"
   ]
  },
  {
   "cell_type": "code",
   "execution_count": 9,
   "id": "39b40412",
   "metadata": {},
   "outputs": [
    {
     "data": {
      "text/plain": [
       "array([[-0.75837458, -0.24898479,  0.60239071],\n",
       "       [-0.39968156,  0.15624529, -0.90323976],\n",
       "       [-0.92168892, -0.11507383, -0.37046937],\n",
       "       ...,\n",
       "       [-0.11848395,  0.96594411, -0.23002943],\n",
       "       [-0.62257276,  0.74175848, -0.24939427],\n",
       "       [-0.11822006,  0.95385314, -0.27602211]])"
      ]
     },
     "execution_count": 9,
     "metadata": {},
     "output_type": "execute_result"
    }
   ],
   "source": [
    "normalized_data = normalize(scaled_data)\n",
    "normalized_data"
   ]
  },
  {
   "cell_type": "code",
   "execution_count": 13,
   "id": "e0cd6f93",
   "metadata": {},
   "outputs": [],
   "source": [
    "with open(\"C://Users//dell//Desktop//user_engagement.pkl\", \"rb\") as f:\n",
    "    kmeans1 = pickle.load(f)"
   ]
  },
  {
   "cell_type": "code",
   "execution_count": 15,
   "id": "f013601b",
   "metadata": {},
   "outputs": [],
   "source": [
    "less_engaged_cluster = 4"
   ]
  },
  {
   "cell_type": "code",
   "execution_count": 16,
   "id": "da821742",
   "metadata": {},
   "outputs": [
    {
     "data": {
      "text/html": [
       "<div>\n",
       "<style scoped>\n",
       "    .dataframe tbody tr th:only-of-type {\n",
       "        vertical-align: middle;\n",
       "    }\n",
       "\n",
       "    .dataframe tbody tr th {\n",
       "        vertical-align: top;\n",
       "    }\n",
       "\n",
       "    .dataframe thead th {\n",
       "        text-align: right;\n",
       "    }\n",
       "</style>\n",
       "<table border=\"1\" class=\"dataframe\">\n",
       "  <thead>\n",
       "    <tr style=\"text-align: right;\">\n",
       "      <th></th>\n",
       "      <th>msisdn</th>\n",
       "      <th>cluster</th>\n",
       "      <th>XDR Sessions</th>\n",
       "      <th>dur</th>\n",
       "      <th>total_dv</th>\n",
       "      <th>newcluster</th>\n",
       "      <th>engagement_score</th>\n",
       "    </tr>\n",
       "  </thead>\n",
       "  <tbody>\n",
       "    <tr>\n",
       "      <th>0</th>\n",
       "      <td>3.360100e+10</td>\n",
       "      <td>2</td>\n",
       "      <td>1</td>\n",
       "      <td>116720.0</td>\n",
       "      <td>8.786906e+08</td>\n",
       "      <td>3</td>\n",
       "      <td>1.441545</td>\n",
       "    </tr>\n",
       "    <tr>\n",
       "      <th>1</th>\n",
       "      <td>3.360100e+10</td>\n",
       "      <td>1</td>\n",
       "      <td>1</td>\n",
       "      <td>181230.0</td>\n",
       "      <td>1.568596e+08</td>\n",
       "      <td>0</td>\n",
       "      <td>1.852355</td>\n",
       "    </tr>\n",
       "    <tr>\n",
       "      <th>2</th>\n",
       "      <td>3.360100e+10</td>\n",
       "      <td>1</td>\n",
       "      <td>1</td>\n",
       "      <td>134969.0</td>\n",
       "      <td>5.959665e+08</td>\n",
       "      <td>0</td>\n",
       "      <td>1.867126</td>\n",
       "    </tr>\n",
       "    <tr>\n",
       "      <th>3</th>\n",
       "      <td>3.360101e+10</td>\n",
       "      <td>1</td>\n",
       "      <td>1</td>\n",
       "      <td>49878.0</td>\n",
       "      <td>4.223207e+08</td>\n",
       "      <td>0</td>\n",
       "      <td>1.869914</td>\n",
       "    </tr>\n",
       "    <tr>\n",
       "      <th>4</th>\n",
       "      <td>3.360101e+10</td>\n",
       "      <td>0</td>\n",
       "      <td>2</td>\n",
       "      <td>37104.0</td>\n",
       "      <td>1.457411e+09</td>\n",
       "      <td>4</td>\n",
       "      <td>0.581456</td>\n",
       "    </tr>\n",
       "  </tbody>\n",
       "</table>\n",
       "</div>"
      ],
      "text/plain": [
       "         msisdn  cluster  XDR Sessions       dur      total_dv  newcluster  \\\n",
       "0  3.360100e+10        2             1  116720.0  8.786906e+08           3   \n",
       "1  3.360100e+10        1             1  181230.0  1.568596e+08           0   \n",
       "2  3.360100e+10        1             1  134969.0  5.959665e+08           0   \n",
       "3  3.360101e+10        1             1   49878.0  4.223207e+08           0   \n",
       "4  3.360101e+10        0             2   37104.0  1.457411e+09           4   \n",
       "\n",
       "   engagement_score  \n",
       "0          1.441545  \n",
       "1          1.852355  \n",
       "2          1.867126  \n",
       "3          1.869914  \n",
       "4          0.581456  "
      ]
     },
     "execution_count": 16,
     "metadata": {},
     "output_type": "execute_result"
    }
   ],
   "source": [
    "distance = kmeans1.fit_transform(normalized_data)\n",
    "distance_from_less_engaged_cluster = list(\n",
    "    map(lambda x: x[less_engaged_cluster], distance))\n",
    "user_engagement_df['engagement_score'] = distance_from_less_engaged_cluster\n",
    "user_engagement_df.head()"
   ]
  },
  {
   "cell_type": "markdown",
   "id": "2313483a",
   "metadata": {},
   "source": [
    "## Exprience Score"
   ]
  },
  {
   "cell_type": "code",
   "execution_count": 17,
   "id": "1147fdcf",
   "metadata": {},
   "outputs": [],
   "source": [
    "exp_df = user_experience_df.set_index('MSISDN/Number')[\n",
    "    ['Total Avg RTT (ms)', 'Total Avg Bearer TP (kbps)', 'Total TCP Retrans. Vol (Bytes)']]"
   ]
  },
  {
   "cell_type": "code",
   "execution_count": 18,
   "id": "5f7cbd24",
   "metadata": {},
   "outputs": [
    {
     "data": {
      "text/plain": [
       "array([[-0.14425818, -0.49274715, -0.0796073 ],\n",
       "       [-0.16671505, -0.49220516, -0.0796073 ],\n",
       "       [-0.21312591, -0.49225229, -0.0796073 ],\n",
       "       ...,\n",
       "       [-0.21312591, -0.49451452, -0.0796073 ],\n",
       "       [-0.21312591, -0.49376044, -0.0796073 ],\n",
       "       [-0.21312591, -0.49449095, -0.0796073 ]])"
      ]
     },
     "execution_count": 18,
     "metadata": {},
     "output_type": "execute_result"
    }
   ],
   "source": [
    "# scale data\n",
    "scaler = StandardScaler()\n",
    "scaled_data = scaler.fit_transform(exp_df)\n",
    "scaled_data"
   ]
  },
  {
   "cell_type": "code",
   "execution_count": 19,
   "id": "22f385e1",
   "metadata": {},
   "outputs": [
    {
     "data": {
      "text/plain": [
       "array([[-0.27765199, -0.94838455, -0.15321921],\n",
       "       [-0.3171086 , -0.93622317, -0.151421  ],\n",
       "       [-0.39301507, -0.90773837, -0.14679992],\n",
       "       ...,\n",
       "       [-0.39153183, -0.90846847, -0.1462459 ],\n",
       "       [-0.39202513, -0.90822602, -0.14643016],\n",
       "       [-0.39154722, -0.90846091, -0.14625165]])"
      ]
     },
     "execution_count": 19,
     "metadata": {},
     "output_type": "execute_result"
    }
   ],
   "source": [
    "normalized_data = normalize(scaled_data)\n",
    "normalized_data"
   ]
  },
  {
   "cell_type": "code",
   "execution_count": 21,
   "id": "4caeeb0e",
   "metadata": {},
   "outputs": [],
   "source": [
    "with open(\"C://Users//dell//Desktop//user_exp.pkl\", \"rb\") as f:\n",
    "    kmeans2 = pickle.load(f)"
   ]
  },
  {
   "cell_type": "code",
   "execution_count": 22,
   "id": "981fca71",
   "metadata": {},
   "outputs": [],
   "source": [
    "less_experience_cluster = 1"
   ]
  },
  {
   "cell_type": "code",
   "execution_count": 25,
   "id": "3f3bc075",
   "metadata": {},
   "outputs": [
    {
     "data": {
      "text/html": [
       "<div>\n",
       "<style scoped>\n",
       "    .dataframe tbody tr th:only-of-type {\n",
       "        vertical-align: middle;\n",
       "    }\n",
       "\n",
       "    .dataframe tbody tr th {\n",
       "        vertical-align: top;\n",
       "    }\n",
       "\n",
       "    .dataframe thead th {\n",
       "        text-align: right;\n",
       "    }\n",
       "</style>\n",
       "<table border=\"1\" class=\"dataframe\">\n",
       "  <thead>\n",
       "    <tr style=\"text-align: right;\">\n",
       "      <th></th>\n",
       "      <th>MSISDN/Number</th>\n",
       "      <th>cluster</th>\n",
       "      <th>Total Avg RTT (ms)</th>\n",
       "      <th>Total Avg Bearer TP (kbps)</th>\n",
       "      <th>Total TCP Retrans. Vol (Bytes)</th>\n",
       "      <th>experience_score</th>\n",
       "    </tr>\n",
       "  </thead>\n",
       "  <tbody>\n",
       "    <tr>\n",
       "      <th>0</th>\n",
       "      <td>3.360100e+10</td>\n",
       "      <td>0</td>\n",
       "      <td>46.0</td>\n",
       "      <td>76.0</td>\n",
       "      <td>0.0</td>\n",
       "      <td>1.855560</td>\n",
       "    </tr>\n",
       "    <tr>\n",
       "      <th>1</th>\n",
       "      <td>3.360100e+10</td>\n",
       "      <td>0</td>\n",
       "      <td>31.0</td>\n",
       "      <td>99.0</td>\n",
       "      <td>0.0</td>\n",
       "      <td>1.847765</td>\n",
       "    </tr>\n",
       "    <tr>\n",
       "      <th>2</th>\n",
       "      <td>3.360100e+10</td>\n",
       "      <td>0</td>\n",
       "      <td>0.0</td>\n",
       "      <td>97.0</td>\n",
       "      <td>0.0</td>\n",
       "      <td>1.830235</td>\n",
       "    </tr>\n",
       "    <tr>\n",
       "      <th>3</th>\n",
       "      <td>3.360101e+10</td>\n",
       "      <td>0</td>\n",
       "      <td>84.0</td>\n",
       "      <td>248.0</td>\n",
       "      <td>0.0</td>\n",
       "      <td>1.871880</td>\n",
       "    </tr>\n",
       "    <tr>\n",
       "      <th>4</th>\n",
       "      <td>3.360101e+10</td>\n",
       "      <td>1</td>\n",
       "      <td>119.0</td>\n",
       "      <td>56844.0</td>\n",
       "      <td>9370832.0</td>\n",
       "      <td>0.130055</td>\n",
       "    </tr>\n",
       "  </tbody>\n",
       "</table>\n",
       "</div>"
      ],
      "text/plain": [
       "   MSISDN/Number  cluster  Total Avg RTT (ms)  Total Avg Bearer TP (kbps)  \\\n",
       "0   3.360100e+10        0                46.0                        76.0   \n",
       "1   3.360100e+10        0                31.0                        99.0   \n",
       "2   3.360100e+10        0                 0.0                        97.0   \n",
       "3   3.360101e+10        0                84.0                       248.0   \n",
       "4   3.360101e+10        1               119.0                     56844.0   \n",
       "\n",
       "   Total TCP Retrans. Vol (Bytes)  experience_score  \n",
       "0                             0.0          1.855560  \n",
       "1                             0.0          1.847765  \n",
       "2                             0.0          1.830235  \n",
       "3                             0.0          1.871880  \n",
       "4                       9370832.0          0.130055  "
      ]
     },
     "execution_count": 25,
     "metadata": {},
     "output_type": "execute_result"
    }
   ],
   "source": [
    "distance = kmeans2.fit_transform(normalized_data)\n",
    "distance_from_less_experience_cluster = list(\n",
    "    map(lambda x: x[less_experience_cluster], distance))\n",
    "user_experience_df['experience_score'] = distance_from_less_experience_cluster\n",
    "user_experience_df.head()"
   ]
  },
  {
   "cell_type": "code",
   "execution_count": null,
   "id": "f4305049",
   "metadata": {},
   "outputs": [],
   "source": []
  }
 ],
 "metadata": {
  "kernelspec": {
   "display_name": "Python 3 (ipykernel)",
   "language": "python",
   "name": "python3"
  },
  "language_info": {
   "codemirror_mode": {
    "name": "ipython",
    "version": 3
   },
   "file_extension": ".py",
   "mimetype": "text/x-python",
   "name": "python",
   "nbconvert_exporter": "python",
   "pygments_lexer": "ipython3",
   "version": "3.9.7"
  }
 },
 "nbformat": 4,
 "nbformat_minor": 5
}
